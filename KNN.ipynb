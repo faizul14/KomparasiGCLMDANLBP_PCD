{
  "nbformat": 4,
  "nbformat_minor": 0,
  "metadata": {
    "colab": {
      "provenance": []
    },
    "kernelspec": {
      "name": "python3",
      "display_name": "Python 3"
    },
    "language_info": {
      "name": "python"
    }
  },
  "cells": [
    {
      "cell_type": "markdown",
      "source": [
        "GLCM WITH KNN"
      ],
      "metadata": {
        "id": "DoOqvPv1lnk_"
      }
    },
    {
      "cell_type": "code",
      "execution_count": null,
      "metadata": {
        "id": "OCOE9h5LbYfj",
        "colab": {
          "base_uri": "https://localhost:8080/",
          "height": 444
        },
        "outputId": "8a99f3ba-5033-494c-d568-254fe6d11f9f"
      },
      "outputs": [
        {
          "output_type": "execute_result",
          "data": {
            "text/plain": [
              "   Unnamed: 0  dissimilarity  correlation  homogeneity    contrast       ASM  \\\n",
              "0           0      19.524584     0.400429     0.073640  771.373208  0.000250   \n",
              "1           1      16.873976     0.638779     0.074152  566.026084  0.000189   \n",
              "2           2      17.314821     0.475669     0.087051  648.010860  0.000274   \n",
              "3           3      15.335422     0.645979     0.112097  602.474760  0.000393   \n",
              "4           4      16.767608     0.609280     0.083202  597.947561  0.000238   \n",
              "5           5      14.432973     0.658341     0.090737  452.004424  0.000275   \n",
              "6           6      14.215538     0.649303     0.095181  432.236564  0.000265   \n",
              "7           7      15.323906     0.466964     0.086335  485.800894  0.000338   \n",
              "8           8      14.132077     0.558247     0.089153  390.865295  0.000292   \n",
              "9           9      13.657411     0.641893     0.090611  380.240483  0.000308   \n",
              "\n",
              "     energy       label  \n",
              "0  0.015820  DagingSapi  \n",
              "1  0.013754  DagingSapi  \n",
              "2  0.016559  DagingSapi  \n",
              "3  0.019816  DagingSapi  \n",
              "4  0.015412  DagingSapi  \n",
              "5  0.016588  DagingSapi  \n",
              "6  0.016274  DagingSapi  \n",
              "7  0.018372  DagingSapi  \n",
              "8  0.017075  DagingSapi  \n",
              "9  0.017553  DagingSapi  "
            ],
            "text/html": [
              "\n",
              "  <div id=\"df-e79c936c-9eb9-4c29-8f6e-3ddde21d38cc\">\n",
              "    <div class=\"colab-df-container\">\n",
              "      <div>\n",
              "<style scoped>\n",
              "    .dataframe tbody tr th:only-of-type {\n",
              "        vertical-align: middle;\n",
              "    }\n",
              "\n",
              "    .dataframe tbody tr th {\n",
              "        vertical-align: top;\n",
              "    }\n",
              "\n",
              "    .dataframe thead th {\n",
              "        text-align: right;\n",
              "    }\n",
              "</style>\n",
              "<table border=\"1\" class=\"dataframe\">\n",
              "  <thead>\n",
              "    <tr style=\"text-align: right;\">\n",
              "      <th></th>\n",
              "      <th>Unnamed: 0</th>\n",
              "      <th>dissimilarity</th>\n",
              "      <th>correlation</th>\n",
              "      <th>homogeneity</th>\n",
              "      <th>contrast</th>\n",
              "      <th>ASM</th>\n",
              "      <th>energy</th>\n",
              "      <th>label</th>\n",
              "    </tr>\n",
              "  </thead>\n",
              "  <tbody>\n",
              "    <tr>\n",
              "      <th>0</th>\n",
              "      <td>0</td>\n",
              "      <td>19.524584</td>\n",
              "      <td>0.400429</td>\n",
              "      <td>0.073640</td>\n",
              "      <td>771.373208</td>\n",
              "      <td>0.000250</td>\n",
              "      <td>0.015820</td>\n",
              "      <td>DagingSapi</td>\n",
              "    </tr>\n",
              "    <tr>\n",
              "      <th>1</th>\n",
              "      <td>1</td>\n",
              "      <td>16.873976</td>\n",
              "      <td>0.638779</td>\n",
              "      <td>0.074152</td>\n",
              "      <td>566.026084</td>\n",
              "      <td>0.000189</td>\n",
              "      <td>0.013754</td>\n",
              "      <td>DagingSapi</td>\n",
              "    </tr>\n",
              "    <tr>\n",
              "      <th>2</th>\n",
              "      <td>2</td>\n",
              "      <td>17.314821</td>\n",
              "      <td>0.475669</td>\n",
              "      <td>0.087051</td>\n",
              "      <td>648.010860</td>\n",
              "      <td>0.000274</td>\n",
              "      <td>0.016559</td>\n",
              "      <td>DagingSapi</td>\n",
              "    </tr>\n",
              "    <tr>\n",
              "      <th>3</th>\n",
              "      <td>3</td>\n",
              "      <td>15.335422</td>\n",
              "      <td>0.645979</td>\n",
              "      <td>0.112097</td>\n",
              "      <td>602.474760</td>\n",
              "      <td>0.000393</td>\n",
              "      <td>0.019816</td>\n",
              "      <td>DagingSapi</td>\n",
              "    </tr>\n",
              "    <tr>\n",
              "      <th>4</th>\n",
              "      <td>4</td>\n",
              "      <td>16.767608</td>\n",
              "      <td>0.609280</td>\n",
              "      <td>0.083202</td>\n",
              "      <td>597.947561</td>\n",
              "      <td>0.000238</td>\n",
              "      <td>0.015412</td>\n",
              "      <td>DagingSapi</td>\n",
              "    </tr>\n",
              "    <tr>\n",
              "      <th>5</th>\n",
              "      <td>5</td>\n",
              "      <td>14.432973</td>\n",
              "      <td>0.658341</td>\n",
              "      <td>0.090737</td>\n",
              "      <td>452.004424</td>\n",
              "      <td>0.000275</td>\n",
              "      <td>0.016588</td>\n",
              "      <td>DagingSapi</td>\n",
              "    </tr>\n",
              "    <tr>\n",
              "      <th>6</th>\n",
              "      <td>6</td>\n",
              "      <td>14.215538</td>\n",
              "      <td>0.649303</td>\n",
              "      <td>0.095181</td>\n",
              "      <td>432.236564</td>\n",
              "      <td>0.000265</td>\n",
              "      <td>0.016274</td>\n",
              "      <td>DagingSapi</td>\n",
              "    </tr>\n",
              "    <tr>\n",
              "      <th>7</th>\n",
              "      <td>7</td>\n",
              "      <td>15.323906</td>\n",
              "      <td>0.466964</td>\n",
              "      <td>0.086335</td>\n",
              "      <td>485.800894</td>\n",
              "      <td>0.000338</td>\n",
              "      <td>0.018372</td>\n",
              "      <td>DagingSapi</td>\n",
              "    </tr>\n",
              "    <tr>\n",
              "      <th>8</th>\n",
              "      <td>8</td>\n",
              "      <td>14.132077</td>\n",
              "      <td>0.558247</td>\n",
              "      <td>0.089153</td>\n",
              "      <td>390.865295</td>\n",
              "      <td>0.000292</td>\n",
              "      <td>0.017075</td>\n",
              "      <td>DagingSapi</td>\n",
              "    </tr>\n",
              "    <tr>\n",
              "      <th>9</th>\n",
              "      <td>9</td>\n",
              "      <td>13.657411</td>\n",
              "      <td>0.641893</td>\n",
              "      <td>0.090611</td>\n",
              "      <td>380.240483</td>\n",
              "      <td>0.000308</td>\n",
              "      <td>0.017553</td>\n",
              "      <td>DagingSapi</td>\n",
              "    </tr>\n",
              "  </tbody>\n",
              "</table>\n",
              "</div>\n",
              "      <button class=\"colab-df-convert\" onclick=\"convertToInteractive('df-e79c936c-9eb9-4c29-8f6e-3ddde21d38cc')\"\n",
              "              title=\"Convert this dataframe to an interactive table.\"\n",
              "              style=\"display:none;\">\n",
              "        \n",
              "  <svg xmlns=\"http://www.w3.org/2000/svg\" height=\"24px\"viewBox=\"0 0 24 24\"\n",
              "       width=\"24px\">\n",
              "    <path d=\"M0 0h24v24H0V0z\" fill=\"none\"/>\n",
              "    <path d=\"M18.56 5.44l.94 2.06.94-2.06 2.06-.94-2.06-.94-.94-2.06-.94 2.06-2.06.94zm-11 1L8.5 8.5l.94-2.06 2.06-.94-2.06-.94L8.5 2.5l-.94 2.06-2.06.94zm10 10l.94 2.06.94-2.06 2.06-.94-2.06-.94-.94-2.06-.94 2.06-2.06.94z\"/><path d=\"M17.41 7.96l-1.37-1.37c-.4-.4-.92-.59-1.43-.59-.52 0-1.04.2-1.43.59L10.3 9.45l-7.72 7.72c-.78.78-.78 2.05 0 2.83L4 21.41c.39.39.9.59 1.41.59.51 0 1.02-.2 1.41-.59l7.78-7.78 2.81-2.81c.8-.78.8-2.07 0-2.86zM5.41 20L4 18.59l7.72-7.72 1.47 1.35L5.41 20z\"/>\n",
              "  </svg>\n",
              "      </button>\n",
              "      \n",
              "  <style>\n",
              "    .colab-df-container {\n",
              "      display:flex;\n",
              "      flex-wrap:wrap;\n",
              "      gap: 12px;\n",
              "    }\n",
              "\n",
              "    .colab-df-convert {\n",
              "      background-color: #E8F0FE;\n",
              "      border: none;\n",
              "      border-radius: 50%;\n",
              "      cursor: pointer;\n",
              "      display: none;\n",
              "      fill: #1967D2;\n",
              "      height: 32px;\n",
              "      padding: 0 0 0 0;\n",
              "      width: 32px;\n",
              "    }\n",
              "\n",
              "    .colab-df-convert:hover {\n",
              "      background-color: #E2EBFA;\n",
              "      box-shadow: 0px 1px 2px rgba(60, 64, 67, 0.3), 0px 1px 3px 1px rgba(60, 64, 67, 0.15);\n",
              "      fill: #174EA6;\n",
              "    }\n",
              "\n",
              "    [theme=dark] .colab-df-convert {\n",
              "      background-color: #3B4455;\n",
              "      fill: #D2E3FC;\n",
              "    }\n",
              "\n",
              "    [theme=dark] .colab-df-convert:hover {\n",
              "      background-color: #434B5C;\n",
              "      box-shadow: 0px 1px 3px 1px rgba(0, 0, 0, 0.15);\n",
              "      filter: drop-shadow(0px 1px 2px rgba(0, 0, 0, 0.3));\n",
              "      fill: #FFFFFF;\n",
              "    }\n",
              "  </style>\n",
              "\n",
              "      <script>\n",
              "        const buttonEl =\n",
              "          document.querySelector('#df-e79c936c-9eb9-4c29-8f6e-3ddde21d38cc button.colab-df-convert');\n",
              "        buttonEl.style.display =\n",
              "          google.colab.kernel.accessAllowed ? 'block' : 'none';\n",
              "\n",
              "        async function convertToInteractive(key) {\n",
              "          const element = document.querySelector('#df-e79c936c-9eb9-4c29-8f6e-3ddde21d38cc');\n",
              "          const dataTable =\n",
              "            await google.colab.kernel.invokeFunction('convertToInteractive',\n",
              "                                                     [key], {});\n",
              "          if (!dataTable) return;\n",
              "\n",
              "          const docLinkHtml = 'Like what you see? Visit the ' +\n",
              "            '<a target=\"_blank\" href=https://colab.research.google.com/notebooks/data_table.ipynb>data table notebook</a>'\n",
              "            + ' to learn more about interactive tables.';\n",
              "          element.innerHTML = '';\n",
              "          dataTable['output_type'] = 'display_data';\n",
              "          await google.colab.output.renderOutput(dataTable, element);\n",
              "          const docLink = document.createElement('div');\n",
              "          docLink.innerHTML = docLinkHtml;\n",
              "          element.appendChild(docLink);\n",
              "        }\n",
              "      </script>\n",
              "    </div>\n",
              "  </div>\n",
              "  "
            ]
          },
          "metadata": {},
          "execution_count": 1
        }
      ],
      "source": [
        "import pandas as pd\n",
        "df = pd.read_csv('/content/Dataset_glcm.csv')\n",
        "df.head(10)"
      ]
    },
    {
      "cell_type": "code",
      "source": [
        "df.info()"
      ],
      "metadata": {
        "colab": {
          "base_uri": "https://localhost:8080/"
        },
        "id": "tKSV0edA5RS7",
        "outputId": "aaef30b8-6e98-46ea-e767-86cc31c76127"
      },
      "execution_count": null,
      "outputs": [
        {
          "output_type": "stream",
          "name": "stdout",
          "text": [
            "<class 'pandas.core.frame.DataFrame'>\n",
            "RangeIndex: 244 entries, 0 to 243\n",
            "Data columns (total 8 columns):\n",
            " #   Column         Non-Null Count  Dtype  \n",
            "---  ------         --------------  -----  \n",
            " 0   Unnamed: 0     244 non-null    int64  \n",
            " 1   dissimilarity  244 non-null    float64\n",
            " 2   correlation    244 non-null    float64\n",
            " 3   homogeneity    244 non-null    float64\n",
            " 4   contrast       244 non-null    float64\n",
            " 5   ASM            244 non-null    float64\n",
            " 6   energy         244 non-null    float64\n",
            " 7   label          244 non-null    object \n",
            "dtypes: float64(6), int64(1), object(1)\n",
            "memory usage: 15.4+ KB\n"
          ]
        }
      ]
    },
    {
      "cell_type": "code",
      "source": [
        "# hapus atribut yang tidak berguna\n",
        "df.drop('Unnamed: 0',axis=1,inplace=True)\n",
        "df.head()"
      ],
      "metadata": {
        "colab": {
          "base_uri": "https://localhost:8080/",
          "height": 206
        },
        "id": "ov70dzK65j4Z",
        "outputId": "b491c23d-7157-458a-9927-217d29e4c180"
      },
      "execution_count": null,
      "outputs": [
        {
          "output_type": "execute_result",
          "data": {
            "text/plain": [
              "   dissimilarity  correlation  homogeneity    contrast       ASM    energy  \\\n",
              "0      19.524584     0.400429     0.073640  771.373208  0.000250  0.015820   \n",
              "1      16.873976     0.638779     0.074152  566.026084  0.000189  0.013754   \n",
              "2      17.314821     0.475669     0.087051  648.010860  0.000274  0.016559   \n",
              "3      15.335422     0.645979     0.112097  602.474760  0.000393  0.019816   \n",
              "4      16.767608     0.609280     0.083202  597.947561  0.000238  0.015412   \n",
              "\n",
              "        label  \n",
              "0  DagingSapi  \n",
              "1  DagingSapi  \n",
              "2  DagingSapi  \n",
              "3  DagingSapi  \n",
              "4  DagingSapi  "
            ],
            "text/html": [
              "\n",
              "  <div id=\"df-1c1e93f2-0ee6-4d39-8600-b5c89d4943fb\">\n",
              "    <div class=\"colab-df-container\">\n",
              "      <div>\n",
              "<style scoped>\n",
              "    .dataframe tbody tr th:only-of-type {\n",
              "        vertical-align: middle;\n",
              "    }\n",
              "\n",
              "    .dataframe tbody tr th {\n",
              "        vertical-align: top;\n",
              "    }\n",
              "\n",
              "    .dataframe thead th {\n",
              "        text-align: right;\n",
              "    }\n",
              "</style>\n",
              "<table border=\"1\" class=\"dataframe\">\n",
              "  <thead>\n",
              "    <tr style=\"text-align: right;\">\n",
              "      <th></th>\n",
              "      <th>dissimilarity</th>\n",
              "      <th>correlation</th>\n",
              "      <th>homogeneity</th>\n",
              "      <th>contrast</th>\n",
              "      <th>ASM</th>\n",
              "      <th>energy</th>\n",
              "      <th>label</th>\n",
              "    </tr>\n",
              "  </thead>\n",
              "  <tbody>\n",
              "    <tr>\n",
              "      <th>0</th>\n",
              "      <td>19.524584</td>\n",
              "      <td>0.400429</td>\n",
              "      <td>0.073640</td>\n",
              "      <td>771.373208</td>\n",
              "      <td>0.000250</td>\n",
              "      <td>0.015820</td>\n",
              "      <td>DagingSapi</td>\n",
              "    </tr>\n",
              "    <tr>\n",
              "      <th>1</th>\n",
              "      <td>16.873976</td>\n",
              "      <td>0.638779</td>\n",
              "      <td>0.074152</td>\n",
              "      <td>566.026084</td>\n",
              "      <td>0.000189</td>\n",
              "      <td>0.013754</td>\n",
              "      <td>DagingSapi</td>\n",
              "    </tr>\n",
              "    <tr>\n",
              "      <th>2</th>\n",
              "      <td>17.314821</td>\n",
              "      <td>0.475669</td>\n",
              "      <td>0.087051</td>\n",
              "      <td>648.010860</td>\n",
              "      <td>0.000274</td>\n",
              "      <td>0.016559</td>\n",
              "      <td>DagingSapi</td>\n",
              "    </tr>\n",
              "    <tr>\n",
              "      <th>3</th>\n",
              "      <td>15.335422</td>\n",
              "      <td>0.645979</td>\n",
              "      <td>0.112097</td>\n",
              "      <td>602.474760</td>\n",
              "      <td>0.000393</td>\n",
              "      <td>0.019816</td>\n",
              "      <td>DagingSapi</td>\n",
              "    </tr>\n",
              "    <tr>\n",
              "      <th>4</th>\n",
              "      <td>16.767608</td>\n",
              "      <td>0.609280</td>\n",
              "      <td>0.083202</td>\n",
              "      <td>597.947561</td>\n",
              "      <td>0.000238</td>\n",
              "      <td>0.015412</td>\n",
              "      <td>DagingSapi</td>\n",
              "    </tr>\n",
              "  </tbody>\n",
              "</table>\n",
              "</div>\n",
              "      <button class=\"colab-df-convert\" onclick=\"convertToInteractive('df-1c1e93f2-0ee6-4d39-8600-b5c89d4943fb')\"\n",
              "              title=\"Convert this dataframe to an interactive table.\"\n",
              "              style=\"display:none;\">\n",
              "        \n",
              "  <svg xmlns=\"http://www.w3.org/2000/svg\" height=\"24px\"viewBox=\"0 0 24 24\"\n",
              "       width=\"24px\">\n",
              "    <path d=\"M0 0h24v24H0V0z\" fill=\"none\"/>\n",
              "    <path d=\"M18.56 5.44l.94 2.06.94-2.06 2.06-.94-2.06-.94-.94-2.06-.94 2.06-2.06.94zm-11 1L8.5 8.5l.94-2.06 2.06-.94-2.06-.94L8.5 2.5l-.94 2.06-2.06.94zm10 10l.94 2.06.94-2.06 2.06-.94-2.06-.94-.94-2.06-.94 2.06-2.06.94z\"/><path d=\"M17.41 7.96l-1.37-1.37c-.4-.4-.92-.59-1.43-.59-.52 0-1.04.2-1.43.59L10.3 9.45l-7.72 7.72c-.78.78-.78 2.05 0 2.83L4 21.41c.39.39.9.59 1.41.59.51 0 1.02-.2 1.41-.59l7.78-7.78 2.81-2.81c.8-.78.8-2.07 0-2.86zM5.41 20L4 18.59l7.72-7.72 1.47 1.35L5.41 20z\"/>\n",
              "  </svg>\n",
              "      </button>\n",
              "      \n",
              "  <style>\n",
              "    .colab-df-container {\n",
              "      display:flex;\n",
              "      flex-wrap:wrap;\n",
              "      gap: 12px;\n",
              "    }\n",
              "\n",
              "    .colab-df-convert {\n",
              "      background-color: #E8F0FE;\n",
              "      border: none;\n",
              "      border-radius: 50%;\n",
              "      cursor: pointer;\n",
              "      display: none;\n",
              "      fill: #1967D2;\n",
              "      height: 32px;\n",
              "      padding: 0 0 0 0;\n",
              "      width: 32px;\n",
              "    }\n",
              "\n",
              "    .colab-df-convert:hover {\n",
              "      background-color: #E2EBFA;\n",
              "      box-shadow: 0px 1px 2px rgba(60, 64, 67, 0.3), 0px 1px 3px 1px rgba(60, 64, 67, 0.15);\n",
              "      fill: #174EA6;\n",
              "    }\n",
              "\n",
              "    [theme=dark] .colab-df-convert {\n",
              "      background-color: #3B4455;\n",
              "      fill: #D2E3FC;\n",
              "    }\n",
              "\n",
              "    [theme=dark] .colab-df-convert:hover {\n",
              "      background-color: #434B5C;\n",
              "      box-shadow: 0px 1px 3px 1px rgba(0, 0, 0, 0.15);\n",
              "      filter: drop-shadow(0px 1px 2px rgba(0, 0, 0, 0.3));\n",
              "      fill: #FFFFFF;\n",
              "    }\n",
              "  </style>\n",
              "\n",
              "      <script>\n",
              "        const buttonEl =\n",
              "          document.querySelector('#df-1c1e93f2-0ee6-4d39-8600-b5c89d4943fb button.colab-df-convert');\n",
              "        buttonEl.style.display =\n",
              "          google.colab.kernel.accessAllowed ? 'block' : 'none';\n",
              "\n",
              "        async function convertToInteractive(key) {\n",
              "          const element = document.querySelector('#df-1c1e93f2-0ee6-4d39-8600-b5c89d4943fb');\n",
              "          const dataTable =\n",
              "            await google.colab.kernel.invokeFunction('convertToInteractive',\n",
              "                                                     [key], {});\n",
              "          if (!dataTable) return;\n",
              "\n",
              "          const docLinkHtml = 'Like what you see? Visit the ' +\n",
              "            '<a target=\"_blank\" href=https://colab.research.google.com/notebooks/data_table.ipynb>data table notebook</a>'\n",
              "            + ' to learn more about interactive tables.';\n",
              "          element.innerHTML = '';\n",
              "          dataTable['output_type'] = 'display_data';\n",
              "          await google.colab.output.renderOutput(dataTable, element);\n",
              "          const docLink = document.createElement('div');\n",
              "          docLink.innerHTML = docLinkHtml;\n",
              "          element.appendChild(docLink);\n",
              "        }\n",
              "      </script>\n",
              "    </div>\n",
              "  </div>\n",
              "  "
            ]
          },
          "metadata": {},
          "execution_count": 3
        }
      ]
    },
    {
      "cell_type": "code",
      "source": [
        "# memisahkan atribut dan label\n",
        "X = df[['dissimilarity', 'correlation', 'homogeneity', 'contrast', 'ASM', 'energy' ]]\n",
        "y = df['label']\n",
        "# Membagi dataset menjadi data latih & data uji\n",
        "from sklearn.model_selection import train_test_split\n",
        "X_train, X_test, y_train, y_test = train_test_split(X, y, test_size=0.2, random_state=123)\n",
        "print(y_train)"
      ],
      "metadata": {
        "colab": {
          "base_uri": "https://localhost:8080/"
        },
        "id": "TJP_anE159Lv",
        "outputId": "a2c4a8a2-3cec-4d92-962d-20d5a1e3b501"
      },
      "execution_count": null,
      "outputs": [
        {
          "output_type": "stream",
          "name": "stdout",
          "text": [
            "23     DagingSapi\n",
            "190    DagingBabi\n",
            "209    DagingBabi\n",
            "10     DagingSapi\n",
            "196    DagingBabi\n",
            "          ...    \n",
            "98     DagingSapi\n",
            "220    DagingBabi\n",
            "66     DagingSapi\n",
            "126    DagingBabi\n",
            "109    DagingSapi\n",
            "Name: label, Length: 195, dtype: object\n"
          ]
        }
      ]
    },
    {
      "cell_type": "code",
      "source": [
        "print(X_test)"
      ],
      "metadata": {
        "colab": {
          "base_uri": "https://localhost:8080/",
          "height": 165
        },
        "id": "tn5Fsr0h9vFx",
        "outputId": "65c0bdce-199e-47ae-86c6-22b482c5b555"
      },
      "execution_count": null,
      "outputs": [
        {
          "output_type": "error",
          "ename": "NameError",
          "evalue": "ignored",
          "traceback": [
            "\u001b[0;31m---------------------------------------------------------------------------\u001b[0m",
            "\u001b[0;31mNameError\u001b[0m                                 Traceback (most recent call last)",
            "\u001b[0;32m<ipython-input-1-924b5b0f57b6>\u001b[0m in \u001b[0;36m<module>\u001b[0;34m\u001b[0m\n\u001b[0;32m----> 1\u001b[0;31m \u001b[0mprint\u001b[0m\u001b[0;34m(\u001b[0m\u001b[0mX_test\u001b[0m\u001b[0;34m)\u001b[0m\u001b[0;34m\u001b[0m\u001b[0;34m\u001b[0m\u001b[0m\n\u001b[0m",
            "\u001b[0;31mNameError\u001b[0m: name 'X_test' is not defined"
          ]
        }
      ]
    },
    {
      "cell_type": "markdown",
      "source": [
        "**ALGORITMA KNN**"
      ],
      "metadata": {
        "id": "kM--0Fu7654R"
      }
    },
    {
      "cell_type": "code",
      "source": [
        "from sklearn.neighbors import KNeighborsClassifier\n",
        "from sklearn.model_selection import GridSearchCV\n",
        "import numpy as np"
      ],
      "metadata": {
        "id": "jkTCB1BZ65O7"
      },
      "execution_count": null,
      "outputs": []
    },
    {
      "cell_type": "code",
      "source": [
        "model_KNN = KNeighborsClassifier(5)"
      ],
      "metadata": {
        "id": "md6RpGPo6aSi"
      },
      "execution_count": null,
      "outputs": []
    },
    {
      "cell_type": "code",
      "source": [
        "from sklearn.model_selection import cross_val_score\n",
        " \n",
        "# mengevaluasi performa model dengan cross_val_score\n",
        "scores = cross_val_score(model_KNN, X, y, cv=5)\n",
        "scores"
      ],
      "metadata": {
        "colab": {
          "base_uri": "https://localhost:8080/"
        },
        "id": "HwP8jsUf7NJw",
        "outputId": "2af9c524-538a-4933-c8a3-c7c3817b8288"
      },
      "execution_count": null,
      "outputs": [
        {
          "output_type": "execute_result",
          "data": {
            "text/plain": [
              "array([0.79591837, 0.75510204, 0.81632653, 0.79591837, 0.85416667])"
            ]
          },
          "metadata": {},
          "execution_count": 15
        }
      ]
    },
    {
      "cell_type": "code",
      "source": [
        "model_KNN.fit(X_train, y_train)"
      ],
      "metadata": {
        "colab": {
          "base_uri": "https://localhost:8080/"
        },
        "id": "q4u3lc-c7yDB",
        "outputId": "d2252c93-633c-4dd6-868b-a63362ba3c9c"
      },
      "execution_count": null,
      "outputs": [
        {
          "output_type": "execute_result",
          "data": {
            "text/plain": [
              "KNeighborsClassifier()"
            ]
          },
          "metadata": {},
          "execution_count": 16
        }
      ]
    },
    {
      "cell_type": "code",
      "source": [
        "import sklearn.metrics as metrics\n",
        "#data train accuracy\n",
        "y_pred = model_KNN.predict(X_train)\n",
        "print(metrics.accuracy_score(y_train, y_pred))"
      ],
      "metadata": {
        "colab": {
          "base_uri": "https://localhost:8080/"
        },
        "id": "du_1Pqgy71-D",
        "outputId": "ff478083-18d6-4a2e-cc0c-7b39b501855b"
      },
      "execution_count": null,
      "outputs": [
        {
          "output_type": "stream",
          "name": "stdout",
          "text": [
            "0.882051282051282\n"
          ]
        }
      ]
    },
    {
      "cell_type": "code",
      "source": [
        "#data test accuracy\n",
        "y_pred = model_KNN.predict(X_test)\n",
        "print(metrics.accuracy_score(y_test, y_pred))"
      ],
      "metadata": {
        "colab": {
          "base_uri": "https://localhost:8080/"
        },
        "id": "saYKsXnO8bJt",
        "outputId": "4ff0256d-9905-4407-9161-9019aaf0ebdd"
      },
      "execution_count": null,
      "outputs": [
        {
          "output_type": "stream",
          "name": "stdout",
          "text": [
            "0.6530612244897959\n"
          ]
        }
      ]
    },
    {
      "cell_type": "code",
      "source": [
        "print(model_KNN.predict([[12.511137, 0.576175, 0.107229, 352.602871, 0.000396,0.019911]])[0])"
      ],
      "metadata": {
        "colab": {
          "base_uri": "https://localhost:8080/"
        },
        "id": "quAv2lVG9jEG",
        "outputId": "f44c7ae5-a9fc-417f-e446-0f5eaba528f9"
      },
      "execution_count": null,
      "outputs": [
        {
          "output_type": "stream",
          "name": "stdout",
          "text": [
            "DagingBabi\n"
          ]
        },
        {
          "output_type": "stream",
          "name": "stderr",
          "text": [
            "/usr/local/lib/python3.8/dist-packages/sklearn/base.py:450: UserWarning: X does not have valid feature names, but KNeighborsClassifier was fitted with feature names\n",
            "  warnings.warn(\n"
          ]
        }
      ]
    },
    {
      "cell_type": "code",
      "source": [
        "# save the model to disk\n",
        "import pickle\n",
        "filename = 'KNN Model.sav'\n",
        "pickle.dump(model_KNN, open(filename, 'wb'))"
      ],
      "metadata": {
        "id": "eb_-MrfB8oZ9"
      },
      "execution_count": null,
      "outputs": []
    },
    {
      "cell_type": "markdown",
      "source": [
        "LBP WITH KNN"
      ],
      "metadata": {
        "id": "vFmfWehrl1UF"
      }
    },
    {
      "cell_type": "code",
      "source": [
        "import pandas as pd\n",
        "df2 = pd.read_csv('/content/Dataset_LBP.csv')\n",
        "df2.head(10)"
      ],
      "metadata": {
        "colab": {
          "base_uri": "https://localhost:8080/",
          "height": 363
        },
        "id": "XcXGZvrIlz41",
        "outputId": "7aebd837-7dc0-4d7f-b4ba-7eaf120563dc"
      },
      "execution_count": 2,
      "outputs": [
        {
          "output_type": "execute_result",
          "data": {
            "text/plain": [
              "   Uniformity    Energy   Entropy Label\n",
              "0         0.0  0.233118  0.744894  Sapi\n",
              "1         0.0  0.314254  0.252407  Sapi\n",
              "2         0.0  0.187299  0.758315  Sapi\n",
              "3         0.0  0.194237  0.344809  Sapi\n",
              "4         0.0  0.321262  0.561610  Sapi\n",
              "5         0.0  0.353561  0.389196  Sapi\n",
              "6         0.0  0.444464  0.355075  Sapi\n",
              "7         0.0  0.308632  0.620955  Sapi\n",
              "8         0.0  0.254161  0.244014  Sapi\n",
              "9         0.0  0.210585  0.572214  Sapi"
            ],
            "text/html": [
              "\n",
              "  <div id=\"df-79717b57-bda8-4332-a2aa-1d59bf72c2c8\">\n",
              "    <div class=\"colab-df-container\">\n",
              "      <div>\n",
              "<style scoped>\n",
              "    .dataframe tbody tr th:only-of-type {\n",
              "        vertical-align: middle;\n",
              "    }\n",
              "\n",
              "    .dataframe tbody tr th {\n",
              "        vertical-align: top;\n",
              "    }\n",
              "\n",
              "    .dataframe thead th {\n",
              "        text-align: right;\n",
              "    }\n",
              "</style>\n",
              "<table border=\"1\" class=\"dataframe\">\n",
              "  <thead>\n",
              "    <tr style=\"text-align: right;\">\n",
              "      <th></th>\n",
              "      <th>Uniformity</th>\n",
              "      <th>Energy</th>\n",
              "      <th>Entropy</th>\n",
              "      <th>Label</th>\n",
              "    </tr>\n",
              "  </thead>\n",
              "  <tbody>\n",
              "    <tr>\n",
              "      <th>0</th>\n",
              "      <td>0.0</td>\n",
              "      <td>0.233118</td>\n",
              "      <td>0.744894</td>\n",
              "      <td>Sapi</td>\n",
              "    </tr>\n",
              "    <tr>\n",
              "      <th>1</th>\n",
              "      <td>0.0</td>\n",
              "      <td>0.314254</td>\n",
              "      <td>0.252407</td>\n",
              "      <td>Sapi</td>\n",
              "    </tr>\n",
              "    <tr>\n",
              "      <th>2</th>\n",
              "      <td>0.0</td>\n",
              "      <td>0.187299</td>\n",
              "      <td>0.758315</td>\n",
              "      <td>Sapi</td>\n",
              "    </tr>\n",
              "    <tr>\n",
              "      <th>3</th>\n",
              "      <td>0.0</td>\n",
              "      <td>0.194237</td>\n",
              "      <td>0.344809</td>\n",
              "      <td>Sapi</td>\n",
              "    </tr>\n",
              "    <tr>\n",
              "      <th>4</th>\n",
              "      <td>0.0</td>\n",
              "      <td>0.321262</td>\n",
              "      <td>0.561610</td>\n",
              "      <td>Sapi</td>\n",
              "    </tr>\n",
              "    <tr>\n",
              "      <th>5</th>\n",
              "      <td>0.0</td>\n",
              "      <td>0.353561</td>\n",
              "      <td>0.389196</td>\n",
              "      <td>Sapi</td>\n",
              "    </tr>\n",
              "    <tr>\n",
              "      <th>6</th>\n",
              "      <td>0.0</td>\n",
              "      <td>0.444464</td>\n",
              "      <td>0.355075</td>\n",
              "      <td>Sapi</td>\n",
              "    </tr>\n",
              "    <tr>\n",
              "      <th>7</th>\n",
              "      <td>0.0</td>\n",
              "      <td>0.308632</td>\n",
              "      <td>0.620955</td>\n",
              "      <td>Sapi</td>\n",
              "    </tr>\n",
              "    <tr>\n",
              "      <th>8</th>\n",
              "      <td>0.0</td>\n",
              "      <td>0.254161</td>\n",
              "      <td>0.244014</td>\n",
              "      <td>Sapi</td>\n",
              "    </tr>\n",
              "    <tr>\n",
              "      <th>9</th>\n",
              "      <td>0.0</td>\n",
              "      <td>0.210585</td>\n",
              "      <td>0.572214</td>\n",
              "      <td>Sapi</td>\n",
              "    </tr>\n",
              "  </tbody>\n",
              "</table>\n",
              "</div>\n",
              "      <button class=\"colab-df-convert\" onclick=\"convertToInteractive('df-79717b57-bda8-4332-a2aa-1d59bf72c2c8')\"\n",
              "              title=\"Convert this dataframe to an interactive table.\"\n",
              "              style=\"display:none;\">\n",
              "        \n",
              "  <svg xmlns=\"http://www.w3.org/2000/svg\" height=\"24px\"viewBox=\"0 0 24 24\"\n",
              "       width=\"24px\">\n",
              "    <path d=\"M0 0h24v24H0V0z\" fill=\"none\"/>\n",
              "    <path d=\"M18.56 5.44l.94 2.06.94-2.06 2.06-.94-2.06-.94-.94-2.06-.94 2.06-2.06.94zm-11 1L8.5 8.5l.94-2.06 2.06-.94-2.06-.94L8.5 2.5l-.94 2.06-2.06.94zm10 10l.94 2.06.94-2.06 2.06-.94-2.06-.94-.94-2.06-.94 2.06-2.06.94z\"/><path d=\"M17.41 7.96l-1.37-1.37c-.4-.4-.92-.59-1.43-.59-.52 0-1.04.2-1.43.59L10.3 9.45l-7.72 7.72c-.78.78-.78 2.05 0 2.83L4 21.41c.39.39.9.59 1.41.59.51 0 1.02-.2 1.41-.59l7.78-7.78 2.81-2.81c.8-.78.8-2.07 0-2.86zM5.41 20L4 18.59l7.72-7.72 1.47 1.35L5.41 20z\"/>\n",
              "  </svg>\n",
              "      </button>\n",
              "      \n",
              "  <style>\n",
              "    .colab-df-container {\n",
              "      display:flex;\n",
              "      flex-wrap:wrap;\n",
              "      gap: 12px;\n",
              "    }\n",
              "\n",
              "    .colab-df-convert {\n",
              "      background-color: #E8F0FE;\n",
              "      border: none;\n",
              "      border-radius: 50%;\n",
              "      cursor: pointer;\n",
              "      display: none;\n",
              "      fill: #1967D2;\n",
              "      height: 32px;\n",
              "      padding: 0 0 0 0;\n",
              "      width: 32px;\n",
              "    }\n",
              "\n",
              "    .colab-df-convert:hover {\n",
              "      background-color: #E2EBFA;\n",
              "      box-shadow: 0px 1px 2px rgba(60, 64, 67, 0.3), 0px 1px 3px 1px rgba(60, 64, 67, 0.15);\n",
              "      fill: #174EA6;\n",
              "    }\n",
              "\n",
              "    [theme=dark] .colab-df-convert {\n",
              "      background-color: #3B4455;\n",
              "      fill: #D2E3FC;\n",
              "    }\n",
              "\n",
              "    [theme=dark] .colab-df-convert:hover {\n",
              "      background-color: #434B5C;\n",
              "      box-shadow: 0px 1px 3px 1px rgba(0, 0, 0, 0.15);\n",
              "      filter: drop-shadow(0px 1px 2px rgba(0, 0, 0, 0.3));\n",
              "      fill: #FFFFFF;\n",
              "    }\n",
              "  </style>\n",
              "\n",
              "      <script>\n",
              "        const buttonEl =\n",
              "          document.querySelector('#df-79717b57-bda8-4332-a2aa-1d59bf72c2c8 button.colab-df-convert');\n",
              "        buttonEl.style.display =\n",
              "          google.colab.kernel.accessAllowed ? 'block' : 'none';\n",
              "\n",
              "        async function convertToInteractive(key) {\n",
              "          const element = document.querySelector('#df-79717b57-bda8-4332-a2aa-1d59bf72c2c8');\n",
              "          const dataTable =\n",
              "            await google.colab.kernel.invokeFunction('convertToInteractive',\n",
              "                                                     [key], {});\n",
              "          if (!dataTable) return;\n",
              "\n",
              "          const docLinkHtml = 'Like what you see? Visit the ' +\n",
              "            '<a target=\"_blank\" href=https://colab.research.google.com/notebooks/data_table.ipynb>data table notebook</a>'\n",
              "            + ' to learn more about interactive tables.';\n",
              "          element.innerHTML = '';\n",
              "          dataTable['output_type'] = 'display_data';\n",
              "          await google.colab.output.renderOutput(dataTable, element);\n",
              "          const docLink = document.createElement('div');\n",
              "          docLink.innerHTML = docLinkHtml;\n",
              "          element.appendChild(docLink);\n",
              "        }\n",
              "      </script>\n",
              "    </div>\n",
              "  </div>\n",
              "  "
            ]
          },
          "metadata": {},
          "execution_count": 2
        }
      ]
    },
    {
      "cell_type": "code",
      "source": [
        "df2.info()"
      ],
      "metadata": {
        "colab": {
          "base_uri": "https://localhost:8080/"
        },
        "id": "JfSNexXUmJQo",
        "outputId": "5015894f-ac72-4c36-c19c-9bedf5c1f570"
      },
      "execution_count": 3,
      "outputs": [
        {
          "output_type": "stream",
          "name": "stdout",
          "text": [
            "<class 'pandas.core.frame.DataFrame'>\n",
            "RangeIndex: 244 entries, 0 to 243\n",
            "Data columns (total 4 columns):\n",
            " #   Column      Non-Null Count  Dtype  \n",
            "---  ------      --------------  -----  \n",
            " 0   Uniformity  244 non-null    float64\n",
            " 1   Energy      244 non-null    float64\n",
            " 2   Entropy     244 non-null    float64\n",
            " 3   Label       244 non-null    object \n",
            "dtypes: float64(3), object(1)\n",
            "memory usage: 7.8+ KB\n"
          ]
        }
      ]
    },
    {
      "cell_type": "code",
      "source": [
        "# memisahkan atribut dan label\n",
        "X = df2[['Uniformity', 'Energy', 'Entropy' ]]\n",
        "y = df2['Label']\n",
        "# Membagi dataset menjadi data latih & data uji\n",
        "from sklearn.model_selection import train_test_split\n",
        "X_train, X_test, y_train, y_test = train_test_split(X, y, test_size=0.2, random_state=123)\n",
        "print(y_train)"
      ],
      "metadata": {
        "colab": {
          "base_uri": "https://localhost:8080/"
        },
        "id": "8meJBTC3mP2T",
        "outputId": "15b2307a-01de-4cf6-c5e5-e8606b329bbb"
      },
      "execution_count": 11,
      "outputs": [
        {
          "output_type": "stream",
          "name": "stdout",
          "text": [
            "23     Sapi\n",
            "190    Babi\n",
            "209    Babi\n",
            "10     Sapi\n",
            "196    Babi\n",
            "       ... \n",
            "98     Sapi\n",
            "220    Babi\n",
            "66     Sapi\n",
            "126    Babi\n",
            "109    Sapi\n",
            "Name: Label, Length: 195, dtype: object\n"
          ]
        }
      ]
    },
    {
      "cell_type": "code",
      "source": [
        "print(y_test)"
      ],
      "metadata": {
        "colab": {
          "base_uri": "https://localhost:8080/"
        },
        "id": "q-O1L3V4ogc5",
        "outputId": "8c7041b0-8297-4a96-bf77-5c9fd3d5087e"
      },
      "execution_count": 24,
      "outputs": [
        {
          "output_type": "stream",
          "name": "stdout",
          "text": [
            "112    Sapi\n",
            "19     Sapi\n",
            "187    Babi\n",
            "169    Babi\n",
            "31     Sapi\n",
            "219    Babi\n",
            "89     Sapi\n",
            "81     Sapi\n",
            "90     Sapi\n",
            "24     Sapi\n",
            "53     Sapi\n",
            "130    Babi\n",
            "231    Babi\n",
            "122    Babi\n",
            "42     Sapi\n",
            "91     Sapi\n",
            "136    Babi\n",
            "80     Sapi\n",
            "182    Babi\n",
            "20     Sapi\n",
            "114    Sapi\n",
            "193    Babi\n",
            "120    Babi\n",
            "159    Babi\n",
            "133    Babi\n",
            "71     Sapi\n",
            "142    Babi\n",
            "52     Sapi\n",
            "79     Sapi\n",
            "61     Sapi\n",
            "173    Babi\n",
            "128    Babi\n",
            "210    Babi\n",
            "37     Sapi\n",
            "33     Sapi\n",
            "145    Babi\n",
            "127    Babi\n",
            "5      Sapi\n",
            "4      Sapi\n",
            "151    Babi\n",
            "200    Babi\n",
            "234    Babi\n",
            "21     Sapi\n",
            "144    Babi\n",
            "95     Sapi\n",
            "107    Sapi\n",
            "62     Sapi\n",
            "186    Babi\n",
            "82     Sapi\n",
            "Name: Label, dtype: object\n"
          ]
        }
      ]
    },
    {
      "cell_type": "code",
      "source": [
        "print(X_test)"
      ],
      "metadata": {
        "colab": {
          "base_uri": "https://localhost:8080/"
        },
        "id": "p08M1xVtoluA",
        "outputId": "0249719b-df37-49f9-be3a-a5a0ef2d6406"
      },
      "execution_count": 25,
      "outputs": [
        {
          "output_type": "stream",
          "name": "stdout",
          "text": [
            "     Uniformity    Energy   Entropy\n",
            "112         0.0  0.356062  0.372036\n",
            "19          0.0  0.517164  0.439781\n",
            "187         0.0  0.024214  0.979457\n",
            "169         0.0  0.012180  0.936525\n",
            "31          0.0  0.108369  0.643999\n",
            "219         0.0  0.039276  0.682715\n",
            "89          0.0  0.096762  0.465923\n",
            "81          0.0  0.301163  0.317992\n",
            "90          0.0  0.169240  0.588875\n",
            "24          0.0  0.343056  0.438873\n",
            "53          0.0  0.236255  0.392626\n",
            "130         0.0  0.008831  0.970823\n",
            "231         0.0  0.026759  0.954130\n",
            "122         0.0  0.017120  0.984079\n",
            "42          0.0  0.227989  0.450221\n",
            "91          0.0  0.753523  0.140254\n",
            "136         0.0  0.058943  0.899500\n",
            "80          0.0  0.121663  0.780420\n",
            "182         0.0  0.006803  0.941827\n",
            "20          0.0  0.077855  0.480640\n",
            "114         0.0  0.321040  0.556837\n",
            "193         0.0  0.008924  0.837046\n",
            "120         0.0  0.005247  0.994994\n",
            "159         0.0  0.013694  0.919299\n",
            "133         0.0  0.021838  0.957115\n",
            "71          0.0  0.085404  0.676943\n",
            "142         0.0  0.022258  0.985892\n",
            "52          0.0  0.520225  0.421206\n",
            "79          0.0  0.086832  0.659033\n",
            "61          0.0  0.275632  0.457617\n",
            "173         0.0  0.015753  0.883285\n",
            "128         0.0  0.001502  0.978300\n",
            "210         0.0  0.026225  0.956168\n",
            "37          0.0  0.103653  0.694009\n",
            "33          0.0  0.630738  0.467313\n",
            "145         0.0  0.014274  1.000000\n",
            "127         0.0  0.013492  0.936688\n",
            "5           0.0  0.353561  0.389196\n",
            "4           0.0  0.321262  0.561610\n",
            "151         0.0  0.002764  0.986817\n",
            "200         0.0  0.010561  0.862467\n",
            "234         0.0  0.009235  0.984360\n",
            "21          0.0  0.175705  0.523344\n",
            "144         0.0  0.023777  0.976559\n",
            "95          0.0  0.257517  0.210818\n",
            "107         0.0  0.115017  0.531993\n",
            "62          0.0  0.193714  0.354758\n",
            "186         0.0  0.007780  0.965313\n",
            "82          0.0  0.860633  0.283010\n"
          ]
        }
      ]
    },
    {
      "cell_type": "markdown",
      "source": [
        "ALGORITMA KNN"
      ],
      "metadata": {
        "id": "7JrO35KRmuab"
      }
    },
    {
      "cell_type": "code",
      "source": [
        "from sklearn.neighbors import KNeighborsClassifier\n",
        "from sklearn.model_selection import GridSearchCV\n",
        "import numpy as np"
      ],
      "metadata": {
        "id": "-13jjrQomiRw"
      },
      "execution_count": 12,
      "outputs": []
    },
    {
      "cell_type": "code",
      "source": [
        "model_KNN2 = KNeighborsClassifier(5)"
      ],
      "metadata": {
        "id": "0FWDW03pmxwG"
      },
      "execution_count": 13,
      "outputs": []
    },
    {
      "cell_type": "code",
      "source": [
        "from sklearn.model_selection import cross_val_score\n",
        " \n",
        "# mengevaluasi performa model dengan cross_val_score\n",
        "scores = cross_val_score(model_KNN2, X, y, cv=5)\n",
        "scores"
      ],
      "metadata": {
        "colab": {
          "base_uri": "https://localhost:8080/"
        },
        "id": "5GrTzdS5nFIa",
        "outputId": "cc91a3db-dd3f-47fa-c433-caef1e81d6b4"
      },
      "execution_count": 17,
      "outputs": [
        {
          "output_type": "execute_result",
          "data": {
            "text/plain": [
              "array([1.        , 1.        , 1.        , 1.        , 0.97916667])"
            ]
          },
          "metadata": {},
          "execution_count": 17
        }
      ]
    },
    {
      "cell_type": "code",
      "source": [
        "model_KNN2.fit(X_train, y_train)"
      ],
      "metadata": {
        "colab": {
          "base_uri": "https://localhost:8080/"
        },
        "id": "AsHenCQonhX6",
        "outputId": "cff85dc1-fa15-46bb-b089-290f0d48f3bf"
      },
      "execution_count": 18,
      "outputs": [
        {
          "output_type": "execute_result",
          "data": {
            "text/plain": [
              "KNeighborsClassifier()"
            ]
          },
          "metadata": {},
          "execution_count": 18
        }
      ]
    },
    {
      "cell_type": "code",
      "source": [
        "import sklearn.metrics as metrics\n",
        "#data train accuracy\n",
        "y_pred = model_KNN2.predict(X_train)\n",
        "print(metrics.accuracy_score(y_train, y_pred))"
      ],
      "metadata": {
        "colab": {
          "base_uri": "https://localhost:8080/"
        },
        "id": "DuSIq7I0ntPj",
        "outputId": "80f2dd7a-fa79-4990-968b-d273beb9c5bd"
      },
      "execution_count": 21,
      "outputs": [
        {
          "output_type": "stream",
          "name": "stdout",
          "text": [
            "1.0\n"
          ]
        }
      ]
    },
    {
      "cell_type": "code",
      "source": [
        "#data test accuracy\n",
        "y_pred = model_KNN2.predict(X_test)\n",
        "print(metrics.accuracy_score(y_test, y_pred))"
      ],
      "metadata": {
        "colab": {
          "base_uri": "https://localhost:8080/"
        },
        "id": "Gm6oQMC-n5jr",
        "outputId": "a7f883a8-4ec7-4ccb-c4e2-e0c8a2af7450"
      },
      "execution_count": 23,
      "outputs": [
        {
          "output_type": "stream",
          "name": "stdout",
          "text": [
            "0.9795918367346939\n"
          ]
        }
      ]
    },
    {
      "cell_type": "code",
      "source": [
        "print(model_KNN2.predict([[0.0,  0.356062 , 0.372036]])[0])"
      ],
      "metadata": {
        "colab": {
          "base_uri": "https://localhost:8080/"
        },
        "id": "ZGoMrDScoZSQ",
        "outputId": "631abfc3-ff21-4f1f-dbf6-3f3cd077f3e4"
      },
      "execution_count": 26,
      "outputs": [
        {
          "output_type": "stream",
          "name": "stdout",
          "text": [
            "Sapi\n"
          ]
        },
        {
          "output_type": "stream",
          "name": "stderr",
          "text": [
            "/usr/local/lib/python3.8/dist-packages/sklearn/base.py:450: UserWarning: X does not have valid feature names, but KNeighborsClassifier was fitted with feature names\n",
            "  warnings.warn(\n"
          ]
        }
      ]
    },
    {
      "cell_type": "code",
      "source": [
        "# save the model to disk\n",
        "import pickle\n",
        "filename = 'KNN Model2.sav'\n",
        "pickle.dump(model_KNN2, open(filename, 'wb'))"
      ],
      "metadata": {
        "id": "LmPDhACto4h8"
      },
      "execution_count": 28,
      "outputs": []
    }
  ]
}