{
  "nbformat": 4,
  "nbformat_minor": 0,
  "metadata": {
    "colab": {
      "provenance": []
    },
    "kernelspec": {
      "name": "python3",
      "display_name": "Python 3"
    },
    "language_info": {
      "name": "python"
    }
  },
  "cells": [
    {
      "cell_type": "code",
      "execution_count": 1,
      "metadata": {
        "id": "OCOE9h5LbYfj",
        "colab": {
          "base_uri": "https://localhost:8080/",
          "height": 363
        },
        "outputId": "8a99f3ba-5033-494c-d568-254fe6d11f9f"
      },
      "outputs": [
        {
          "output_type": "execute_result",
          "data": {
            "text/plain": [
              "   Unnamed: 0  dissimilarity  correlation  homogeneity    contrast       ASM  \\\n",
              "0           0      19.524584     0.400429     0.073640  771.373208  0.000250   \n",
              "1           1      16.873976     0.638779     0.074152  566.026084  0.000189   \n",
              "2           2      17.314821     0.475669     0.087051  648.010860  0.000274   \n",
              "3           3      15.335422     0.645979     0.112097  602.474760  0.000393   \n",
              "4           4      16.767608     0.609280     0.083202  597.947561  0.000238   \n",
              "5           5      14.432973     0.658341     0.090737  452.004424  0.000275   \n",
              "6           6      14.215538     0.649303     0.095181  432.236564  0.000265   \n",
              "7           7      15.323906     0.466964     0.086335  485.800894  0.000338   \n",
              "8           8      14.132077     0.558247     0.089153  390.865295  0.000292   \n",
              "9           9      13.657411     0.641893     0.090611  380.240483  0.000308   \n",
              "\n",
              "     energy       label  \n",
              "0  0.015820  DagingSapi  \n",
              "1  0.013754  DagingSapi  \n",
              "2  0.016559  DagingSapi  \n",
              "3  0.019816  DagingSapi  \n",
              "4  0.015412  DagingSapi  \n",
              "5  0.016588  DagingSapi  \n",
              "6  0.016274  DagingSapi  \n",
              "7  0.018372  DagingSapi  \n",
              "8  0.017075  DagingSapi  \n",
              "9  0.017553  DagingSapi  "
            ],
            "text/html": [
              "\n",
              "  <div id=\"df-e79c936c-9eb9-4c29-8f6e-3ddde21d38cc\">\n",
              "    <div class=\"colab-df-container\">\n",
              "      <div>\n",
              "<style scoped>\n",
              "    .dataframe tbody tr th:only-of-type {\n",
              "        vertical-align: middle;\n",
              "    }\n",
              "\n",
              "    .dataframe tbody tr th {\n",
              "        vertical-align: top;\n",
              "    }\n",
              "\n",
              "    .dataframe thead th {\n",
              "        text-align: right;\n",
              "    }\n",
              "</style>\n",
              "<table border=\"1\" class=\"dataframe\">\n",
              "  <thead>\n",
              "    <tr style=\"text-align: right;\">\n",
              "      <th></th>\n",
              "      <th>Unnamed: 0</th>\n",
              "      <th>dissimilarity</th>\n",
              "      <th>correlation</th>\n",
              "      <th>homogeneity</th>\n",
              "      <th>contrast</th>\n",
              "      <th>ASM</th>\n",
              "      <th>energy</th>\n",
              "      <th>label</th>\n",
              "    </tr>\n",
              "  </thead>\n",
              "  <tbody>\n",
              "    <tr>\n",
              "      <th>0</th>\n",
              "      <td>0</td>\n",
              "      <td>19.524584</td>\n",
              "      <td>0.400429</td>\n",
              "      <td>0.073640</td>\n",
              "      <td>771.373208</td>\n",
              "      <td>0.000250</td>\n",
              "      <td>0.015820</td>\n",
              "      <td>DagingSapi</td>\n",
              "    </tr>\n",
              "    <tr>\n",
              "      <th>1</th>\n",
              "      <td>1</td>\n",
              "      <td>16.873976</td>\n",
              "      <td>0.638779</td>\n",
              "      <td>0.074152</td>\n",
              "      <td>566.026084</td>\n",
              "      <td>0.000189</td>\n",
              "      <td>0.013754</td>\n",
              "      <td>DagingSapi</td>\n",
              "    </tr>\n",
              "    <tr>\n",
              "      <th>2</th>\n",
              "      <td>2</td>\n",
              "      <td>17.314821</td>\n",
              "      <td>0.475669</td>\n",
              "      <td>0.087051</td>\n",
              "      <td>648.010860</td>\n",
              "      <td>0.000274</td>\n",
              "      <td>0.016559</td>\n",
              "      <td>DagingSapi</td>\n",
              "    </tr>\n",
              "    <tr>\n",
              "      <th>3</th>\n",
              "      <td>3</td>\n",
              "      <td>15.335422</td>\n",
              "      <td>0.645979</td>\n",
              "      <td>0.112097</td>\n",
              "      <td>602.474760</td>\n",
              "      <td>0.000393</td>\n",
              "      <td>0.019816</td>\n",
              "      <td>DagingSapi</td>\n",
              "    </tr>\n",
              "    <tr>\n",
              "      <th>4</th>\n",
              "      <td>4</td>\n",
              "      <td>16.767608</td>\n",
              "      <td>0.609280</td>\n",
              "      <td>0.083202</td>\n",
              "      <td>597.947561</td>\n",
              "      <td>0.000238</td>\n",
              "      <td>0.015412</td>\n",
              "      <td>DagingSapi</td>\n",
              "    </tr>\n",
              "    <tr>\n",
              "      <th>5</th>\n",
              "      <td>5</td>\n",
              "      <td>14.432973</td>\n",
              "      <td>0.658341</td>\n",
              "      <td>0.090737</td>\n",
              "      <td>452.004424</td>\n",
              "      <td>0.000275</td>\n",
              "      <td>0.016588</td>\n",
              "      <td>DagingSapi</td>\n",
              "    </tr>\n",
              "    <tr>\n",
              "      <th>6</th>\n",
              "      <td>6</td>\n",
              "      <td>14.215538</td>\n",
              "      <td>0.649303</td>\n",
              "      <td>0.095181</td>\n",
              "      <td>432.236564</td>\n",
              "      <td>0.000265</td>\n",
              "      <td>0.016274</td>\n",
              "      <td>DagingSapi</td>\n",
              "    </tr>\n",
              "    <tr>\n",
              "      <th>7</th>\n",
              "      <td>7</td>\n",
              "      <td>15.323906</td>\n",
              "      <td>0.466964</td>\n",
              "      <td>0.086335</td>\n",
              "      <td>485.800894</td>\n",
              "      <td>0.000338</td>\n",
              "      <td>0.018372</td>\n",
              "      <td>DagingSapi</td>\n",
              "    </tr>\n",
              "    <tr>\n",
              "      <th>8</th>\n",
              "      <td>8</td>\n",
              "      <td>14.132077</td>\n",
              "      <td>0.558247</td>\n",
              "      <td>0.089153</td>\n",
              "      <td>390.865295</td>\n",
              "      <td>0.000292</td>\n",
              "      <td>0.017075</td>\n",
              "      <td>DagingSapi</td>\n",
              "    </tr>\n",
              "    <tr>\n",
              "      <th>9</th>\n",
              "      <td>9</td>\n",
              "      <td>13.657411</td>\n",
              "      <td>0.641893</td>\n",
              "      <td>0.090611</td>\n",
              "      <td>380.240483</td>\n",
              "      <td>0.000308</td>\n",
              "      <td>0.017553</td>\n",
              "      <td>DagingSapi</td>\n",
              "    </tr>\n",
              "  </tbody>\n",
              "</table>\n",
              "</div>\n",
              "      <button class=\"colab-df-convert\" onclick=\"convertToInteractive('df-e79c936c-9eb9-4c29-8f6e-3ddde21d38cc')\"\n",
              "              title=\"Convert this dataframe to an interactive table.\"\n",
              "              style=\"display:none;\">\n",
              "        \n",
              "  <svg xmlns=\"http://www.w3.org/2000/svg\" height=\"24px\"viewBox=\"0 0 24 24\"\n",
              "       width=\"24px\">\n",
              "    <path d=\"M0 0h24v24H0V0z\" fill=\"none\"/>\n",
              "    <path d=\"M18.56 5.44l.94 2.06.94-2.06 2.06-.94-2.06-.94-.94-2.06-.94 2.06-2.06.94zm-11 1L8.5 8.5l.94-2.06 2.06-.94-2.06-.94L8.5 2.5l-.94 2.06-2.06.94zm10 10l.94 2.06.94-2.06 2.06-.94-2.06-.94-.94-2.06-.94 2.06-2.06.94z\"/><path d=\"M17.41 7.96l-1.37-1.37c-.4-.4-.92-.59-1.43-.59-.52 0-1.04.2-1.43.59L10.3 9.45l-7.72 7.72c-.78.78-.78 2.05 0 2.83L4 21.41c.39.39.9.59 1.41.59.51 0 1.02-.2 1.41-.59l7.78-7.78 2.81-2.81c.8-.78.8-2.07 0-2.86zM5.41 20L4 18.59l7.72-7.72 1.47 1.35L5.41 20z\"/>\n",
              "  </svg>\n",
              "      </button>\n",
              "      \n",
              "  <style>\n",
              "    .colab-df-container {\n",
              "      display:flex;\n",
              "      flex-wrap:wrap;\n",
              "      gap: 12px;\n",
              "    }\n",
              "\n",
              "    .colab-df-convert {\n",
              "      background-color: #E8F0FE;\n",
              "      border: none;\n",
              "      border-radius: 50%;\n",
              "      cursor: pointer;\n",
              "      display: none;\n",
              "      fill: #1967D2;\n",
              "      height: 32px;\n",
              "      padding: 0 0 0 0;\n",
              "      width: 32px;\n",
              "    }\n",
              "\n",
              "    .colab-df-convert:hover {\n",
              "      background-color: #E2EBFA;\n",
              "      box-shadow: 0px 1px 2px rgba(60, 64, 67, 0.3), 0px 1px 3px 1px rgba(60, 64, 67, 0.15);\n",
              "      fill: #174EA6;\n",
              "    }\n",
              "\n",
              "    [theme=dark] .colab-df-convert {\n",
              "      background-color: #3B4455;\n",
              "      fill: #D2E3FC;\n",
              "    }\n",
              "\n",
              "    [theme=dark] .colab-df-convert:hover {\n",
              "      background-color: #434B5C;\n",
              "      box-shadow: 0px 1px 3px 1px rgba(0, 0, 0, 0.15);\n",
              "      filter: drop-shadow(0px 1px 2px rgba(0, 0, 0, 0.3));\n",
              "      fill: #FFFFFF;\n",
              "    }\n",
              "  </style>\n",
              "\n",
              "      <script>\n",
              "        const buttonEl =\n",
              "          document.querySelector('#df-e79c936c-9eb9-4c29-8f6e-3ddde21d38cc button.colab-df-convert');\n",
              "        buttonEl.style.display =\n",
              "          google.colab.kernel.accessAllowed ? 'block' : 'none';\n",
              "\n",
              "        async function convertToInteractive(key) {\n",
              "          const element = document.querySelector('#df-e79c936c-9eb9-4c29-8f6e-3ddde21d38cc');\n",
              "          const dataTable =\n",
              "            await google.colab.kernel.invokeFunction('convertToInteractive',\n",
              "                                                     [key], {});\n",
              "          if (!dataTable) return;\n",
              "\n",
              "          const docLinkHtml = 'Like what you see? Visit the ' +\n",
              "            '<a target=\"_blank\" href=https://colab.research.google.com/notebooks/data_table.ipynb>data table notebook</a>'\n",
              "            + ' to learn more about interactive tables.';\n",
              "          element.innerHTML = '';\n",
              "          dataTable['output_type'] = 'display_data';\n",
              "          await google.colab.output.renderOutput(dataTable, element);\n",
              "          const docLink = document.createElement('div');\n",
              "          docLink.innerHTML = docLinkHtml;\n",
              "          element.appendChild(docLink);\n",
              "        }\n",
              "      </script>\n",
              "    </div>\n",
              "  </div>\n",
              "  "
            ]
          },
          "metadata": {},
          "execution_count": 1
        }
      ],
      "source": [
        "import pandas as pd\n",
        "df = pd.read_csv('/content/Dataset_glcm.csv')\n",
        "df.head(10)"
      ]
    },
    {
      "cell_type": "code",
      "source": [
        "df.info()"
      ],
      "metadata": {
        "colab": {
          "base_uri": "https://localhost:8080/"
        },
        "id": "tKSV0edA5RS7",
        "outputId": "aaef30b8-6e98-46ea-e767-86cc31c76127"
      },
      "execution_count": 2,
      "outputs": [
        {
          "output_type": "stream",
          "name": "stdout",
          "text": [
            "<class 'pandas.core.frame.DataFrame'>\n",
            "RangeIndex: 244 entries, 0 to 243\n",
            "Data columns (total 8 columns):\n",
            " #   Column         Non-Null Count  Dtype  \n",
            "---  ------         --------------  -----  \n",
            " 0   Unnamed: 0     244 non-null    int64  \n",
            " 1   dissimilarity  244 non-null    float64\n",
            " 2   correlation    244 non-null    float64\n",
            " 3   homogeneity    244 non-null    float64\n",
            " 4   contrast       244 non-null    float64\n",
            " 5   ASM            244 non-null    float64\n",
            " 6   energy         244 non-null    float64\n",
            " 7   label          244 non-null    object \n",
            "dtypes: float64(6), int64(1), object(1)\n",
            "memory usage: 15.4+ KB\n"
          ]
        }
      ]
    },
    {
      "cell_type": "code",
      "source": [
        "# hapus atribut yang tidak berguna\n",
        "df.drop('Unnamed: 0',axis=1,inplace=True)\n",
        "df.head()"
      ],
      "metadata": {
        "colab": {
          "base_uri": "https://localhost:8080/",
          "height": 206
        },
        "id": "ov70dzK65j4Z",
        "outputId": "b491c23d-7157-458a-9927-217d29e4c180"
      },
      "execution_count": 3,
      "outputs": [
        {
          "output_type": "execute_result",
          "data": {
            "text/plain": [
              "   dissimilarity  correlation  homogeneity    contrast       ASM    energy  \\\n",
              "0      19.524584     0.400429     0.073640  771.373208  0.000250  0.015820   \n",
              "1      16.873976     0.638779     0.074152  566.026084  0.000189  0.013754   \n",
              "2      17.314821     0.475669     0.087051  648.010860  0.000274  0.016559   \n",
              "3      15.335422     0.645979     0.112097  602.474760  0.000393  0.019816   \n",
              "4      16.767608     0.609280     0.083202  597.947561  0.000238  0.015412   \n",
              "\n",
              "        label  \n",
              "0  DagingSapi  \n",
              "1  DagingSapi  \n",
              "2  DagingSapi  \n",
              "3  DagingSapi  \n",
              "4  DagingSapi  "
            ],
            "text/html": [
              "\n",
              "  <div id=\"df-1c1e93f2-0ee6-4d39-8600-b5c89d4943fb\">\n",
              "    <div class=\"colab-df-container\">\n",
              "      <div>\n",
              "<style scoped>\n",
              "    .dataframe tbody tr th:only-of-type {\n",
              "        vertical-align: middle;\n",
              "    }\n",
              "\n",
              "    .dataframe tbody tr th {\n",
              "        vertical-align: top;\n",
              "    }\n",
              "\n",
              "    .dataframe thead th {\n",
              "        text-align: right;\n",
              "    }\n",
              "</style>\n",
              "<table border=\"1\" class=\"dataframe\">\n",
              "  <thead>\n",
              "    <tr style=\"text-align: right;\">\n",
              "      <th></th>\n",
              "      <th>dissimilarity</th>\n",
              "      <th>correlation</th>\n",
              "      <th>homogeneity</th>\n",
              "      <th>contrast</th>\n",
              "      <th>ASM</th>\n",
              "      <th>energy</th>\n",
              "      <th>label</th>\n",
              "    </tr>\n",
              "  </thead>\n",
              "  <tbody>\n",
              "    <tr>\n",
              "      <th>0</th>\n",
              "      <td>19.524584</td>\n",
              "      <td>0.400429</td>\n",
              "      <td>0.073640</td>\n",
              "      <td>771.373208</td>\n",
              "      <td>0.000250</td>\n",
              "      <td>0.015820</td>\n",
              "      <td>DagingSapi</td>\n",
              "    </tr>\n",
              "    <tr>\n",
              "      <th>1</th>\n",
              "      <td>16.873976</td>\n",
              "      <td>0.638779</td>\n",
              "      <td>0.074152</td>\n",
              "      <td>566.026084</td>\n",
              "      <td>0.000189</td>\n",
              "      <td>0.013754</td>\n",
              "      <td>DagingSapi</td>\n",
              "    </tr>\n",
              "    <tr>\n",
              "      <th>2</th>\n",
              "      <td>17.314821</td>\n",
              "      <td>0.475669</td>\n",
              "      <td>0.087051</td>\n",
              "      <td>648.010860</td>\n",
              "      <td>0.000274</td>\n",
              "      <td>0.016559</td>\n",
              "      <td>DagingSapi</td>\n",
              "    </tr>\n",
              "    <tr>\n",
              "      <th>3</th>\n",
              "      <td>15.335422</td>\n",
              "      <td>0.645979</td>\n",
              "      <td>0.112097</td>\n",
              "      <td>602.474760</td>\n",
              "      <td>0.000393</td>\n",
              "      <td>0.019816</td>\n",
              "      <td>DagingSapi</td>\n",
              "    </tr>\n",
              "    <tr>\n",
              "      <th>4</th>\n",
              "      <td>16.767608</td>\n",
              "      <td>0.609280</td>\n",
              "      <td>0.083202</td>\n",
              "      <td>597.947561</td>\n",
              "      <td>0.000238</td>\n",
              "      <td>0.015412</td>\n",
              "      <td>DagingSapi</td>\n",
              "    </tr>\n",
              "  </tbody>\n",
              "</table>\n",
              "</div>\n",
              "      <button class=\"colab-df-convert\" onclick=\"convertToInteractive('df-1c1e93f2-0ee6-4d39-8600-b5c89d4943fb')\"\n",
              "              title=\"Convert this dataframe to an interactive table.\"\n",
              "              style=\"display:none;\">\n",
              "        \n",
              "  <svg xmlns=\"http://www.w3.org/2000/svg\" height=\"24px\"viewBox=\"0 0 24 24\"\n",
              "       width=\"24px\">\n",
              "    <path d=\"M0 0h24v24H0V0z\" fill=\"none\"/>\n",
              "    <path d=\"M18.56 5.44l.94 2.06.94-2.06 2.06-.94-2.06-.94-.94-2.06-.94 2.06-2.06.94zm-11 1L8.5 8.5l.94-2.06 2.06-.94-2.06-.94L8.5 2.5l-.94 2.06-2.06.94zm10 10l.94 2.06.94-2.06 2.06-.94-2.06-.94-.94-2.06-.94 2.06-2.06.94z\"/><path d=\"M17.41 7.96l-1.37-1.37c-.4-.4-.92-.59-1.43-.59-.52 0-1.04.2-1.43.59L10.3 9.45l-7.72 7.72c-.78.78-.78 2.05 0 2.83L4 21.41c.39.39.9.59 1.41.59.51 0 1.02-.2 1.41-.59l7.78-7.78 2.81-2.81c.8-.78.8-2.07 0-2.86zM5.41 20L4 18.59l7.72-7.72 1.47 1.35L5.41 20z\"/>\n",
              "  </svg>\n",
              "      </button>\n",
              "      \n",
              "  <style>\n",
              "    .colab-df-container {\n",
              "      display:flex;\n",
              "      flex-wrap:wrap;\n",
              "      gap: 12px;\n",
              "    }\n",
              "\n",
              "    .colab-df-convert {\n",
              "      background-color: #E8F0FE;\n",
              "      border: none;\n",
              "      border-radius: 50%;\n",
              "      cursor: pointer;\n",
              "      display: none;\n",
              "      fill: #1967D2;\n",
              "      height: 32px;\n",
              "      padding: 0 0 0 0;\n",
              "      width: 32px;\n",
              "    }\n",
              "\n",
              "    .colab-df-convert:hover {\n",
              "      background-color: #E2EBFA;\n",
              "      box-shadow: 0px 1px 2px rgba(60, 64, 67, 0.3), 0px 1px 3px 1px rgba(60, 64, 67, 0.15);\n",
              "      fill: #174EA6;\n",
              "    }\n",
              "\n",
              "    [theme=dark] .colab-df-convert {\n",
              "      background-color: #3B4455;\n",
              "      fill: #D2E3FC;\n",
              "    }\n",
              "\n",
              "    [theme=dark] .colab-df-convert:hover {\n",
              "      background-color: #434B5C;\n",
              "      box-shadow: 0px 1px 3px 1px rgba(0, 0, 0, 0.15);\n",
              "      filter: drop-shadow(0px 1px 2px rgba(0, 0, 0, 0.3));\n",
              "      fill: #FFFFFF;\n",
              "    }\n",
              "  </style>\n",
              "\n",
              "      <script>\n",
              "        const buttonEl =\n",
              "          document.querySelector('#df-1c1e93f2-0ee6-4d39-8600-b5c89d4943fb button.colab-df-convert');\n",
              "        buttonEl.style.display =\n",
              "          google.colab.kernel.accessAllowed ? 'block' : 'none';\n",
              "\n",
              "        async function convertToInteractive(key) {\n",
              "          const element = document.querySelector('#df-1c1e93f2-0ee6-4d39-8600-b5c89d4943fb');\n",
              "          const dataTable =\n",
              "            await google.colab.kernel.invokeFunction('convertToInteractive',\n",
              "                                                     [key], {});\n",
              "          if (!dataTable) return;\n",
              "\n",
              "          const docLinkHtml = 'Like what you see? Visit the ' +\n",
              "            '<a target=\"_blank\" href=https://colab.research.google.com/notebooks/data_table.ipynb>data table notebook</a>'\n",
              "            + ' to learn more about interactive tables.';\n",
              "          element.innerHTML = '';\n",
              "          dataTable['output_type'] = 'display_data';\n",
              "          await google.colab.output.renderOutput(dataTable, element);\n",
              "          const docLink = document.createElement('div');\n",
              "          docLink.innerHTML = docLinkHtml;\n",
              "          element.appendChild(docLink);\n",
              "        }\n",
              "      </script>\n",
              "    </div>\n",
              "  </div>\n",
              "  "
            ]
          },
          "metadata": {},
          "execution_count": 3
        }
      ]
    },
    {
      "cell_type": "code",
      "source": [
        "# memisahkan atribut dan label\n",
        "X = df[['dissimilarity', 'correlation', 'homogeneity', 'contrast', 'ASM', 'energy' ]]\n",
        "y = df['label']\n",
        "# Membagi dataset menjadi data latih & data uji\n",
        "from sklearn.model_selection import train_test_split\n",
        "X_train, X_test, y_train, y_test = train_test_split(X, y, test_size=0.2, random_state=123)\n",
        "print(y_train)"
      ],
      "metadata": {
        "colab": {
          "base_uri": "https://localhost:8080/"
        },
        "id": "TJP_anE159Lv",
        "outputId": "a2c4a8a2-3cec-4d92-962d-20d5a1e3b501"
      },
      "execution_count": 4,
      "outputs": [
        {
          "output_type": "stream",
          "name": "stdout",
          "text": [
            "23     DagingSapi\n",
            "190    DagingBabi\n",
            "209    DagingBabi\n",
            "10     DagingSapi\n",
            "196    DagingBabi\n",
            "          ...    \n",
            "98     DagingSapi\n",
            "220    DagingBabi\n",
            "66     DagingSapi\n",
            "126    DagingBabi\n",
            "109    DagingSapi\n",
            "Name: label, Length: 195, dtype: object\n"
          ]
        }
      ]
    },
    {
      "cell_type": "code",
      "source": [
        "print(X_test)"
      ],
      "metadata": {
        "colab": {
          "base_uri": "https://localhost:8080/"
        },
        "id": "tn5Fsr0h9vFx",
        "outputId": "f8dced50-d123-4aed-b96a-1e81ec5d4f0b"
      },
      "execution_count": 28,
      "outputs": [
        {
          "output_type": "stream",
          "name": "stdout",
          "text": [
            "     dissimilarity  correlation  homogeneity     contrast       ASM    energy\n",
            "112      12.511137     0.576175     0.107229   352.602871  0.000396  0.019911\n",
            "19       11.818911     0.494523     0.130336   372.082200  0.000869  0.029483\n",
            "187      10.850320     0.560240     0.116258   219.855815  0.000615  0.024795\n",
            "169      18.504624     0.321025     0.073872   661.784854  0.000300  0.017314\n",
            "31       17.209761     0.501102     0.074744   594.169416  0.000252  0.015869\n",
            "219       1.508019     0.915541     0.476772     4.381984  0.010284  0.101408\n",
            "89       17.567609     0.609985     0.097766   753.249809  0.000283  0.016819\n",
            "81       18.483436     0.587661     0.078411   714.752920  0.000211  0.014517\n",
            "90       12.464186     0.719642     0.095233   328.635913  0.000268  0.016377\n",
            "24       12.368831     0.475483     0.115718   354.244753  0.000591  0.024303\n",
            "53       21.928077     0.378184     0.071834  1050.663691  0.000237  0.015409\n",
            "130      19.824722     0.225226     0.072485   728.713665  0.000354  0.018827\n",
            "231       7.404838     0.517875     0.187072   137.723696  0.001597  0.039962\n",
            "122      14.253877     0.393301     0.093430   375.562157  0.000446  0.021114\n",
            "42       13.257855     0.690077     0.092588   383.775188  0.000359  0.018956\n",
            "91       16.904334     0.668423     0.088069   672.372529  0.000270  0.016423\n",
            "136       7.384835     0.733040     0.166624   152.673844  0.000703  0.026519\n",
            "80       12.064726     0.407804     0.103602   329.257697  0.000591  0.024301\n",
            "182       6.672053     0.592675     0.188130   121.896974  0.001312  0.036228\n",
            "20       15.573975     0.572387     0.086397   492.763688  0.000284  0.016852\n",
            "114      11.115890     0.772074     0.105757   258.970792  0.000325  0.018035\n",
            "193       4.712554     0.925865     0.228267    42.235152  0.001671  0.040880\n",
            "120      11.028603     0.774950     0.131268   303.956640  0.000513  0.022650\n",
            "159       6.926877     0.676403     0.179638   109.822106  0.001175  0.034281\n",
            "133      21.089841     0.305423     0.072696   827.024974  0.000265  0.016282\n",
            "71       10.521332     0.746281     0.127955   251.190721  0.000562  0.023708\n",
            "142      13.258456     0.284610     0.129394   561.991261  0.000780  0.027936\n",
            "52       11.813674     0.664095     0.125898   371.672992  0.000597  0.024432\n",
            "79       16.039666     0.518215     0.074186   504.647764  0.000253  0.015914\n",
            "61       12.881055     0.590061     0.116827   402.322767  0.000423  0.020562\n",
            "173       4.189723     0.772943     0.237964    36.901105  0.002017  0.044914\n",
            "128       9.943833     0.356576     0.167123   300.446500  0.001186  0.034439\n",
            "210       6.882687     0.712012     0.143136    80.495920  0.000917  0.030279\n",
            "37       13.824450     0.631875     0.115657   514.739160  0.000393  0.019816\n",
            "33       15.737030     0.580776     0.105048   658.805037  0.000424  0.020585\n",
            "145      11.526042     0.372826     0.091475   252.258384  0.000548  0.023409\n",
            "127       7.078748     0.926893     0.178359   110.078341  0.000525  0.022923\n",
            "5        14.432973     0.658341     0.090737   452.004424  0.000275  0.016588\n",
            "4        16.767608     0.609280     0.083202   597.947561  0.000238  0.015412\n",
            "151      12.954682     0.637426     0.099488   370.422645  0.000456  0.021358\n",
            "200       3.833644     0.644120     0.230352    24.371855  0.003138  0.056016\n",
            "234      12.087800     0.498912     0.117283   341.882102  0.000623  0.024962\n",
            "21       15.474372     0.598685     0.077599   459.704979  0.000247  0.015701\n",
            "144      13.829187     0.393617     0.128031   444.788519  0.000763  0.027619\n",
            "95       12.673778     0.607395     0.110449   349.704657  0.000365  0.019094\n",
            "107      16.013113     0.518879     0.088305   543.148953  0.000329  0.018137\n",
            "62       15.762652     0.664062     0.104678   628.159818  0.000367  0.019146\n",
            "186      17.197922     0.422061     0.073053   500.507879  0.000284  0.016860\n",
            "82       18.545606     0.616139     0.079710   786.792592  0.000210  0.014503\n"
          ]
        }
      ]
    },
    {
      "cell_type": "markdown",
      "source": [
        "**ALGORITMA KNN**"
      ],
      "metadata": {
        "id": "kM--0Fu7654R"
      }
    },
    {
      "cell_type": "code",
      "source": [
        "from sklearn.neighbors import KNeighborsClassifier\n",
        "from sklearn.model_selection import GridSearchCV\n",
        "import numpy as np"
      ],
      "metadata": {
        "id": "jkTCB1BZ65O7"
      },
      "execution_count": 5,
      "outputs": []
    },
    {
      "cell_type": "code",
      "source": [
        "model_KNN = KNeighborsClassifier(5)"
      ],
      "metadata": {
        "id": "md6RpGPo6aSi"
      },
      "execution_count": 7,
      "outputs": []
    },
    {
      "cell_type": "code",
      "source": [
        "from sklearn.model_selection import cross_val_score\n",
        " \n",
        "# mengevaluasi performa model dengan cross_val_score\n",
        "scores = cross_val_score(model_KNN, X, y, cv=5)\n",
        "scores"
      ],
      "metadata": {
        "colab": {
          "base_uri": "https://localhost:8080/"
        },
        "id": "HwP8jsUf7NJw",
        "outputId": "2af9c524-538a-4933-c8a3-c7c3817b8288"
      },
      "execution_count": 15,
      "outputs": [
        {
          "output_type": "execute_result",
          "data": {
            "text/plain": [
              "array([0.79591837, 0.75510204, 0.81632653, 0.79591837, 0.85416667])"
            ]
          },
          "metadata": {},
          "execution_count": 15
        }
      ]
    },
    {
      "cell_type": "code",
      "source": [
        "model_KNN.fit(X_train, y_train)"
      ],
      "metadata": {
        "colab": {
          "base_uri": "https://localhost:8080/"
        },
        "id": "q4u3lc-c7yDB",
        "outputId": "d2252c93-633c-4dd6-868b-a63362ba3c9c"
      },
      "execution_count": 16,
      "outputs": [
        {
          "output_type": "execute_result",
          "data": {
            "text/plain": [
              "KNeighborsClassifier()"
            ]
          },
          "metadata": {},
          "execution_count": 16
        }
      ]
    },
    {
      "cell_type": "code",
      "source": [
        "import sklearn.metrics as metrics\n",
        "#data train accuracy\n",
        "y_pred = model_KNN.predict(X_train)\n",
        "print(metrics.accuracy_score(y_train, y_pred))"
      ],
      "metadata": {
        "colab": {
          "base_uri": "https://localhost:8080/"
        },
        "id": "du_1Pqgy71-D",
        "outputId": "ff478083-18d6-4a2e-cc0c-7b39b501855b"
      },
      "execution_count": 18,
      "outputs": [
        {
          "output_type": "stream",
          "name": "stdout",
          "text": [
            "0.882051282051282\n"
          ]
        }
      ]
    },
    {
      "cell_type": "code",
      "source": [
        "#data test accuracy\n",
        "y_pred = model_KNN.predict(X_test)\n",
        "print(metrics.accuracy_score(y_test, y_pred))"
      ],
      "metadata": {
        "colab": {
          "base_uri": "https://localhost:8080/"
        },
        "id": "saYKsXnO8bJt",
        "outputId": "4ff0256d-9905-4407-9161-9019aaf0ebdd"
      },
      "execution_count": 23,
      "outputs": [
        {
          "output_type": "stream",
          "name": "stdout",
          "text": [
            "0.6530612244897959\n"
          ]
        }
      ]
    },
    {
      "cell_type": "code",
      "source": [
        "print(model_KNN.predict([[12.511137, 0.576175, 0.107229, 352.602871, 0.000396,0.019911]])[0])"
      ],
      "metadata": {
        "colab": {
          "base_uri": "https://localhost:8080/"
        },
        "id": "quAv2lVG9jEG",
        "outputId": "f44c7ae5-a9fc-417f-e446-0f5eaba528f9"
      },
      "execution_count": 27,
      "outputs": [
        {
          "output_type": "stream",
          "name": "stdout",
          "text": [
            "DagingBabi\n"
          ]
        },
        {
          "output_type": "stream",
          "name": "stderr",
          "text": [
            "/usr/local/lib/python3.8/dist-packages/sklearn/base.py:450: UserWarning: X does not have valid feature names, but KNeighborsClassifier was fitted with feature names\n",
            "  warnings.warn(\n"
          ]
        }
      ]
    },
    {
      "cell_type": "code",
      "source": [
        "# save the model to disk\n",
        "import pickle\n",
        "filename = 'KNN Model.sav'\n",
        "pickle.dump(model_KNN, open(filename, 'wb'))"
      ],
      "metadata": {
        "id": "eb_-MrfB8oZ9"
      },
      "execution_count": 20,
      "outputs": []
    }
  ]
}