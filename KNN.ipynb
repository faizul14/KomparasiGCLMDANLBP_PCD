{
  "nbformat": 4,
  "nbformat_minor": 0,
  "metadata": {
    "colab": {
      "provenance": []
    },
    "kernelspec": {
      "name": "python3",
      "display_name": "Python 3"
    },
    "language_info": {
      "name": "python"
    }
  },
  "cells": [
    {
      "cell_type": "markdown",
      "source": [
        "GLCM WITH KNN"
      ],
      "metadata": {
        "id": "DoOqvPv1lnk_"
      }
    },
    {
      "cell_type": "code",
      "execution_count": 3,
      "metadata": {
        "id": "OCOE9h5LbYfj",
        "colab": {
          "base_uri": "https://localhost:8080/",
          "height": 363
        },
        "outputId": "019465c3-6f2e-4b3a-8441-255192813284"
      },
      "outputs": [
        {
          "output_type": "execute_result",
          "data": {
            "text/plain": [
              "   Unnamed: 0  dissimilarity  correlation  homogeneity    contrast       ASM  \\\n",
              "0           0      19.524584     0.400429     0.073640  771.373208  0.000250   \n",
              "1           1      16.873976     0.638779     0.074152  566.026084  0.000189   \n",
              "2           2      17.314821     0.475669     0.087051  648.010860  0.000274   \n",
              "3           3      15.335422     0.645979     0.112097  602.474760  0.000393   \n",
              "4           4      16.767608     0.609280     0.083202  597.947561  0.000238   \n",
              "5           5      14.432973     0.658341     0.090737  452.004424  0.000275   \n",
              "6           6      14.215538     0.649303     0.095181  432.236564  0.000265   \n",
              "7           7      15.323906     0.466964     0.086335  485.800894  0.000338   \n",
              "8           8      14.132077     0.558247     0.089153  390.865295  0.000292   \n",
              "9           9      13.657411     0.641893     0.090611  380.240483  0.000308   \n",
              "\n",
              "     energy label  \n",
              "0  0.015820  SAPI  \n",
              "1  0.013754  SAPI  \n",
              "2  0.016559  SAPI  \n",
              "3  0.019816  SAPI  \n",
              "4  0.015412  SAPI  \n",
              "5  0.016588  SAPI  \n",
              "6  0.016274  SAPI  \n",
              "7  0.018372  SAPI  \n",
              "8  0.017075  SAPI  \n",
              "9  0.017553  SAPI  "
            ],
            "text/html": [
              "\n",
              "  <div id=\"df-13cb722c-ef58-493b-a020-06a3871d655f\">\n",
              "    <div class=\"colab-df-container\">\n",
              "      <div>\n",
              "<style scoped>\n",
              "    .dataframe tbody tr th:only-of-type {\n",
              "        vertical-align: middle;\n",
              "    }\n",
              "\n",
              "    .dataframe tbody tr th {\n",
              "        vertical-align: top;\n",
              "    }\n",
              "\n",
              "    .dataframe thead th {\n",
              "        text-align: right;\n",
              "    }\n",
              "</style>\n",
              "<table border=\"1\" class=\"dataframe\">\n",
              "  <thead>\n",
              "    <tr style=\"text-align: right;\">\n",
              "      <th></th>\n",
              "      <th>Unnamed: 0</th>\n",
              "      <th>dissimilarity</th>\n",
              "      <th>correlation</th>\n",
              "      <th>homogeneity</th>\n",
              "      <th>contrast</th>\n",
              "      <th>ASM</th>\n",
              "      <th>energy</th>\n",
              "      <th>label</th>\n",
              "    </tr>\n",
              "  </thead>\n",
              "  <tbody>\n",
              "    <tr>\n",
              "      <th>0</th>\n",
              "      <td>0</td>\n",
              "      <td>19.524584</td>\n",
              "      <td>0.400429</td>\n",
              "      <td>0.073640</td>\n",
              "      <td>771.373208</td>\n",
              "      <td>0.000250</td>\n",
              "      <td>0.015820</td>\n",
              "      <td>SAPI</td>\n",
              "    </tr>\n",
              "    <tr>\n",
              "      <th>1</th>\n",
              "      <td>1</td>\n",
              "      <td>16.873976</td>\n",
              "      <td>0.638779</td>\n",
              "      <td>0.074152</td>\n",
              "      <td>566.026084</td>\n",
              "      <td>0.000189</td>\n",
              "      <td>0.013754</td>\n",
              "      <td>SAPI</td>\n",
              "    </tr>\n",
              "    <tr>\n",
              "      <th>2</th>\n",
              "      <td>2</td>\n",
              "      <td>17.314821</td>\n",
              "      <td>0.475669</td>\n",
              "      <td>0.087051</td>\n",
              "      <td>648.010860</td>\n",
              "      <td>0.000274</td>\n",
              "      <td>0.016559</td>\n",
              "      <td>SAPI</td>\n",
              "    </tr>\n",
              "    <tr>\n",
              "      <th>3</th>\n",
              "      <td>3</td>\n",
              "      <td>15.335422</td>\n",
              "      <td>0.645979</td>\n",
              "      <td>0.112097</td>\n",
              "      <td>602.474760</td>\n",
              "      <td>0.000393</td>\n",
              "      <td>0.019816</td>\n",
              "      <td>SAPI</td>\n",
              "    </tr>\n",
              "    <tr>\n",
              "      <th>4</th>\n",
              "      <td>4</td>\n",
              "      <td>16.767608</td>\n",
              "      <td>0.609280</td>\n",
              "      <td>0.083202</td>\n",
              "      <td>597.947561</td>\n",
              "      <td>0.000238</td>\n",
              "      <td>0.015412</td>\n",
              "      <td>SAPI</td>\n",
              "    </tr>\n",
              "    <tr>\n",
              "      <th>5</th>\n",
              "      <td>5</td>\n",
              "      <td>14.432973</td>\n",
              "      <td>0.658341</td>\n",
              "      <td>0.090737</td>\n",
              "      <td>452.004424</td>\n",
              "      <td>0.000275</td>\n",
              "      <td>0.016588</td>\n",
              "      <td>SAPI</td>\n",
              "    </tr>\n",
              "    <tr>\n",
              "      <th>6</th>\n",
              "      <td>6</td>\n",
              "      <td>14.215538</td>\n",
              "      <td>0.649303</td>\n",
              "      <td>0.095181</td>\n",
              "      <td>432.236564</td>\n",
              "      <td>0.000265</td>\n",
              "      <td>0.016274</td>\n",
              "      <td>SAPI</td>\n",
              "    </tr>\n",
              "    <tr>\n",
              "      <th>7</th>\n",
              "      <td>7</td>\n",
              "      <td>15.323906</td>\n",
              "      <td>0.466964</td>\n",
              "      <td>0.086335</td>\n",
              "      <td>485.800894</td>\n",
              "      <td>0.000338</td>\n",
              "      <td>0.018372</td>\n",
              "      <td>SAPI</td>\n",
              "    </tr>\n",
              "    <tr>\n",
              "      <th>8</th>\n",
              "      <td>8</td>\n",
              "      <td>14.132077</td>\n",
              "      <td>0.558247</td>\n",
              "      <td>0.089153</td>\n",
              "      <td>390.865295</td>\n",
              "      <td>0.000292</td>\n",
              "      <td>0.017075</td>\n",
              "      <td>SAPI</td>\n",
              "    </tr>\n",
              "    <tr>\n",
              "      <th>9</th>\n",
              "      <td>9</td>\n",
              "      <td>13.657411</td>\n",
              "      <td>0.641893</td>\n",
              "      <td>0.090611</td>\n",
              "      <td>380.240483</td>\n",
              "      <td>0.000308</td>\n",
              "      <td>0.017553</td>\n",
              "      <td>SAPI</td>\n",
              "    </tr>\n",
              "  </tbody>\n",
              "</table>\n",
              "</div>\n",
              "      <button class=\"colab-df-convert\" onclick=\"convertToInteractive('df-13cb722c-ef58-493b-a020-06a3871d655f')\"\n",
              "              title=\"Convert this dataframe to an interactive table.\"\n",
              "              style=\"display:none;\">\n",
              "        \n",
              "  <svg xmlns=\"http://www.w3.org/2000/svg\" height=\"24px\"viewBox=\"0 0 24 24\"\n",
              "       width=\"24px\">\n",
              "    <path d=\"M0 0h24v24H0V0z\" fill=\"none\"/>\n",
              "    <path d=\"M18.56 5.44l.94 2.06.94-2.06 2.06-.94-2.06-.94-.94-2.06-.94 2.06-2.06.94zm-11 1L8.5 8.5l.94-2.06 2.06-.94-2.06-.94L8.5 2.5l-.94 2.06-2.06.94zm10 10l.94 2.06.94-2.06 2.06-.94-2.06-.94-.94-2.06-.94 2.06-2.06.94z\"/><path d=\"M17.41 7.96l-1.37-1.37c-.4-.4-.92-.59-1.43-.59-.52 0-1.04.2-1.43.59L10.3 9.45l-7.72 7.72c-.78.78-.78 2.05 0 2.83L4 21.41c.39.39.9.59 1.41.59.51 0 1.02-.2 1.41-.59l7.78-7.78 2.81-2.81c.8-.78.8-2.07 0-2.86zM5.41 20L4 18.59l7.72-7.72 1.47 1.35L5.41 20z\"/>\n",
              "  </svg>\n",
              "      </button>\n",
              "      \n",
              "  <style>\n",
              "    .colab-df-container {\n",
              "      display:flex;\n",
              "      flex-wrap:wrap;\n",
              "      gap: 12px;\n",
              "    }\n",
              "\n",
              "    .colab-df-convert {\n",
              "      background-color: #E8F0FE;\n",
              "      border: none;\n",
              "      border-radius: 50%;\n",
              "      cursor: pointer;\n",
              "      display: none;\n",
              "      fill: #1967D2;\n",
              "      height: 32px;\n",
              "      padding: 0 0 0 0;\n",
              "      width: 32px;\n",
              "    }\n",
              "\n",
              "    .colab-df-convert:hover {\n",
              "      background-color: #E2EBFA;\n",
              "      box-shadow: 0px 1px 2px rgba(60, 64, 67, 0.3), 0px 1px 3px 1px rgba(60, 64, 67, 0.15);\n",
              "      fill: #174EA6;\n",
              "    }\n",
              "\n",
              "    [theme=dark] .colab-df-convert {\n",
              "      background-color: #3B4455;\n",
              "      fill: #D2E3FC;\n",
              "    }\n",
              "\n",
              "    [theme=dark] .colab-df-convert:hover {\n",
              "      background-color: #434B5C;\n",
              "      box-shadow: 0px 1px 3px 1px rgba(0, 0, 0, 0.15);\n",
              "      filter: drop-shadow(0px 1px 2px rgba(0, 0, 0, 0.3));\n",
              "      fill: #FFFFFF;\n",
              "    }\n",
              "  </style>\n",
              "\n",
              "      <script>\n",
              "        const buttonEl =\n",
              "          document.querySelector('#df-13cb722c-ef58-493b-a020-06a3871d655f button.colab-df-convert');\n",
              "        buttonEl.style.display =\n",
              "          google.colab.kernel.accessAllowed ? 'block' : 'none';\n",
              "\n",
              "        async function convertToInteractive(key) {\n",
              "          const element = document.querySelector('#df-13cb722c-ef58-493b-a020-06a3871d655f');\n",
              "          const dataTable =\n",
              "            await google.colab.kernel.invokeFunction('convertToInteractive',\n",
              "                                                     [key], {});\n",
              "          if (!dataTable) return;\n",
              "\n",
              "          const docLinkHtml = 'Like what you see? Visit the ' +\n",
              "            '<a target=\"_blank\" href=https://colab.research.google.com/notebooks/data_table.ipynb>data table notebook</a>'\n",
              "            + ' to learn more about interactive tables.';\n",
              "          element.innerHTML = '';\n",
              "          dataTable['output_type'] = 'display_data';\n",
              "          await google.colab.output.renderOutput(dataTable, element);\n",
              "          const docLink = document.createElement('div');\n",
              "          docLink.innerHTML = docLinkHtml;\n",
              "          element.appendChild(docLink);\n",
              "        }\n",
              "      </script>\n",
              "    </div>\n",
              "  </div>\n",
              "  "
            ]
          },
          "metadata": {},
          "execution_count": 3
        }
      ],
      "source": [
        "import pandas as pd\n",
        "df = pd.read_csv('/content/Dataset_glcm.csv')\n",
        "df.head(10)"
      ]
    },
    {
      "cell_type": "code",
      "source": [
        "df.info()"
      ],
      "metadata": {
        "colab": {
          "base_uri": "https://localhost:8080/"
        },
        "id": "tKSV0edA5RS7",
        "outputId": "73360a41-78da-445f-81ed-7c88e2bc83d0"
      },
      "execution_count": 4,
      "outputs": [
        {
          "output_type": "stream",
          "name": "stdout",
          "text": [
            "<class 'pandas.core.frame.DataFrame'>\n",
            "RangeIndex: 230 entries, 0 to 229\n",
            "Data columns (total 8 columns):\n",
            " #   Column         Non-Null Count  Dtype  \n",
            "---  ------         --------------  -----  \n",
            " 0   Unnamed: 0     230 non-null    int64  \n",
            " 1   dissimilarity  230 non-null    float64\n",
            " 2   correlation    230 non-null    float64\n",
            " 3   homogeneity    230 non-null    float64\n",
            " 4   contrast       230 non-null    float64\n",
            " 5   ASM            230 non-null    float64\n",
            " 6   energy         230 non-null    float64\n",
            " 7   label          230 non-null    object \n",
            "dtypes: float64(6), int64(1), object(1)\n",
            "memory usage: 14.5+ KB\n"
          ]
        }
      ]
    },
    {
      "cell_type": "code",
      "source": [
        "# hapus atribut yang tidak berguna\n",
        "df.drop('Unnamed: 0',axis=1,inplace=True)\n",
        "df.head()"
      ],
      "metadata": {
        "colab": {
          "base_uri": "https://localhost:8080/",
          "height": 206
        },
        "id": "ov70dzK65j4Z",
        "outputId": "446ed592-7ddf-4919-997a-7f447f0568c2"
      },
      "execution_count": 5,
      "outputs": [
        {
          "output_type": "execute_result",
          "data": {
            "text/plain": [
              "   dissimilarity  correlation  homogeneity    contrast       ASM    energy  \\\n",
              "0      19.524584     0.400429     0.073640  771.373208  0.000250  0.015820   \n",
              "1      16.873976     0.638779     0.074152  566.026084  0.000189  0.013754   \n",
              "2      17.314821     0.475669     0.087051  648.010860  0.000274  0.016559   \n",
              "3      15.335422     0.645979     0.112097  602.474760  0.000393  0.019816   \n",
              "4      16.767608     0.609280     0.083202  597.947561  0.000238  0.015412   \n",
              "\n",
              "  label  \n",
              "0  SAPI  \n",
              "1  SAPI  \n",
              "2  SAPI  \n",
              "3  SAPI  \n",
              "4  SAPI  "
            ],
            "text/html": [
              "\n",
              "  <div id=\"df-389745be-1d80-48b6-ae15-43c1270c3495\">\n",
              "    <div class=\"colab-df-container\">\n",
              "      <div>\n",
              "<style scoped>\n",
              "    .dataframe tbody tr th:only-of-type {\n",
              "        vertical-align: middle;\n",
              "    }\n",
              "\n",
              "    .dataframe tbody tr th {\n",
              "        vertical-align: top;\n",
              "    }\n",
              "\n",
              "    .dataframe thead th {\n",
              "        text-align: right;\n",
              "    }\n",
              "</style>\n",
              "<table border=\"1\" class=\"dataframe\">\n",
              "  <thead>\n",
              "    <tr style=\"text-align: right;\">\n",
              "      <th></th>\n",
              "      <th>dissimilarity</th>\n",
              "      <th>correlation</th>\n",
              "      <th>homogeneity</th>\n",
              "      <th>contrast</th>\n",
              "      <th>ASM</th>\n",
              "      <th>energy</th>\n",
              "      <th>label</th>\n",
              "    </tr>\n",
              "  </thead>\n",
              "  <tbody>\n",
              "    <tr>\n",
              "      <th>0</th>\n",
              "      <td>19.524584</td>\n",
              "      <td>0.400429</td>\n",
              "      <td>0.073640</td>\n",
              "      <td>771.373208</td>\n",
              "      <td>0.000250</td>\n",
              "      <td>0.015820</td>\n",
              "      <td>SAPI</td>\n",
              "    </tr>\n",
              "    <tr>\n",
              "      <th>1</th>\n",
              "      <td>16.873976</td>\n",
              "      <td>0.638779</td>\n",
              "      <td>0.074152</td>\n",
              "      <td>566.026084</td>\n",
              "      <td>0.000189</td>\n",
              "      <td>0.013754</td>\n",
              "      <td>SAPI</td>\n",
              "    </tr>\n",
              "    <tr>\n",
              "      <th>2</th>\n",
              "      <td>17.314821</td>\n",
              "      <td>0.475669</td>\n",
              "      <td>0.087051</td>\n",
              "      <td>648.010860</td>\n",
              "      <td>0.000274</td>\n",
              "      <td>0.016559</td>\n",
              "      <td>SAPI</td>\n",
              "    </tr>\n",
              "    <tr>\n",
              "      <th>3</th>\n",
              "      <td>15.335422</td>\n",
              "      <td>0.645979</td>\n",
              "      <td>0.112097</td>\n",
              "      <td>602.474760</td>\n",
              "      <td>0.000393</td>\n",
              "      <td>0.019816</td>\n",
              "      <td>SAPI</td>\n",
              "    </tr>\n",
              "    <tr>\n",
              "      <th>4</th>\n",
              "      <td>16.767608</td>\n",
              "      <td>0.609280</td>\n",
              "      <td>0.083202</td>\n",
              "      <td>597.947561</td>\n",
              "      <td>0.000238</td>\n",
              "      <td>0.015412</td>\n",
              "      <td>SAPI</td>\n",
              "    </tr>\n",
              "  </tbody>\n",
              "</table>\n",
              "</div>\n",
              "      <button class=\"colab-df-convert\" onclick=\"convertToInteractive('df-389745be-1d80-48b6-ae15-43c1270c3495')\"\n",
              "              title=\"Convert this dataframe to an interactive table.\"\n",
              "              style=\"display:none;\">\n",
              "        \n",
              "  <svg xmlns=\"http://www.w3.org/2000/svg\" height=\"24px\"viewBox=\"0 0 24 24\"\n",
              "       width=\"24px\">\n",
              "    <path d=\"M0 0h24v24H0V0z\" fill=\"none\"/>\n",
              "    <path d=\"M18.56 5.44l.94 2.06.94-2.06 2.06-.94-2.06-.94-.94-2.06-.94 2.06-2.06.94zm-11 1L8.5 8.5l.94-2.06 2.06-.94-2.06-.94L8.5 2.5l-.94 2.06-2.06.94zm10 10l.94 2.06.94-2.06 2.06-.94-2.06-.94-.94-2.06-.94 2.06-2.06.94z\"/><path d=\"M17.41 7.96l-1.37-1.37c-.4-.4-.92-.59-1.43-.59-.52 0-1.04.2-1.43.59L10.3 9.45l-7.72 7.72c-.78.78-.78 2.05 0 2.83L4 21.41c.39.39.9.59 1.41.59.51 0 1.02-.2 1.41-.59l7.78-7.78 2.81-2.81c.8-.78.8-2.07 0-2.86zM5.41 20L4 18.59l7.72-7.72 1.47 1.35L5.41 20z\"/>\n",
              "  </svg>\n",
              "      </button>\n",
              "      \n",
              "  <style>\n",
              "    .colab-df-container {\n",
              "      display:flex;\n",
              "      flex-wrap:wrap;\n",
              "      gap: 12px;\n",
              "    }\n",
              "\n",
              "    .colab-df-convert {\n",
              "      background-color: #E8F0FE;\n",
              "      border: none;\n",
              "      border-radius: 50%;\n",
              "      cursor: pointer;\n",
              "      display: none;\n",
              "      fill: #1967D2;\n",
              "      height: 32px;\n",
              "      padding: 0 0 0 0;\n",
              "      width: 32px;\n",
              "    }\n",
              "\n",
              "    .colab-df-convert:hover {\n",
              "      background-color: #E2EBFA;\n",
              "      box-shadow: 0px 1px 2px rgba(60, 64, 67, 0.3), 0px 1px 3px 1px rgba(60, 64, 67, 0.15);\n",
              "      fill: #174EA6;\n",
              "    }\n",
              "\n",
              "    [theme=dark] .colab-df-convert {\n",
              "      background-color: #3B4455;\n",
              "      fill: #D2E3FC;\n",
              "    }\n",
              "\n",
              "    [theme=dark] .colab-df-convert:hover {\n",
              "      background-color: #434B5C;\n",
              "      box-shadow: 0px 1px 3px 1px rgba(0, 0, 0, 0.15);\n",
              "      filter: drop-shadow(0px 1px 2px rgba(0, 0, 0, 0.3));\n",
              "      fill: #FFFFFF;\n",
              "    }\n",
              "  </style>\n",
              "\n",
              "      <script>\n",
              "        const buttonEl =\n",
              "          document.querySelector('#df-389745be-1d80-48b6-ae15-43c1270c3495 button.colab-df-convert');\n",
              "        buttonEl.style.display =\n",
              "          google.colab.kernel.accessAllowed ? 'block' : 'none';\n",
              "\n",
              "        async function convertToInteractive(key) {\n",
              "          const element = document.querySelector('#df-389745be-1d80-48b6-ae15-43c1270c3495');\n",
              "          const dataTable =\n",
              "            await google.colab.kernel.invokeFunction('convertToInteractive',\n",
              "                                                     [key], {});\n",
              "          if (!dataTable) return;\n",
              "\n",
              "          const docLinkHtml = 'Like what you see? Visit the ' +\n",
              "            '<a target=\"_blank\" href=https://colab.research.google.com/notebooks/data_table.ipynb>data table notebook</a>'\n",
              "            + ' to learn more about interactive tables.';\n",
              "          element.innerHTML = '';\n",
              "          dataTable['output_type'] = 'display_data';\n",
              "          await google.colab.output.renderOutput(dataTable, element);\n",
              "          const docLink = document.createElement('div');\n",
              "          docLink.innerHTML = docLinkHtml;\n",
              "          element.appendChild(docLink);\n",
              "        }\n",
              "      </script>\n",
              "    </div>\n",
              "  </div>\n",
              "  "
            ]
          },
          "metadata": {},
          "execution_count": 5
        }
      ]
    },
    {
      "cell_type": "code",
      "source": [
        "# memisahkan atribut dan label\n",
        "X = df[['dissimilarity', 'correlation', 'homogeneity', 'contrast', 'ASM', 'energy' ]]\n",
        "y = df['label']\n",
        "# Membagi dataset menjadi data latih & data uji\n",
        "from sklearn.model_selection import train_test_split\n",
        "X_train, X_test, y_train, y_test = train_test_split(X, y, test_size=0.2, random_state=123)\n",
        "print(y_train)"
      ],
      "metadata": {
        "colab": {
          "base_uri": "https://localhost:8080/"
        },
        "id": "TJP_anE159Lv",
        "outputId": "38afbc3a-c57e-459a-dfe0-238c23e2863d"
      },
      "execution_count": 6,
      "outputs": [
        {
          "output_type": "stream",
          "name": "stdout",
          "text": [
            "52     SAPI\n",
            "10     SAPI\n",
            "206    BABI\n",
            "91     SAPI\n",
            "26     SAPI\n",
            "       ... \n",
            "98     SAPI\n",
            "220    BABI\n",
            "66     SAPI\n",
            "126    BABI\n",
            "109    SAPI\n",
            "Name: label, Length: 184, dtype: object\n"
          ]
        }
      ]
    },
    {
      "cell_type": "code",
      "source": [
        "print(X_test)"
      ],
      "metadata": {
        "colab": {
          "base_uri": "https://localhost:8080/"
        },
        "id": "tn5Fsr0h9vFx",
        "outputId": "6c6dec6c-15fb-405b-e1b4-9c0c76c2cc05"
      },
      "execution_count": 7,
      "outputs": [
        {
          "output_type": "stream",
          "name": "stdout",
          "text": [
            "     dissimilarity  correlation  homogeneity     contrast       ASM    energy\n",
            "184      16.182028     0.559277     0.107182   565.141870  0.000472  0.021736\n",
            "148       4.116235     0.873961     0.262647    45.582255  0.001627  0.040337\n",
            "179      17.197922     0.422061     0.073053   500.507879  0.000284  0.016860\n",
            "210       6.728120     0.891495     0.164055    89.050759  0.000634  0.025186\n",
            "81       18.483436     0.587661     0.078411   714.752920  0.000211  0.014517\n",
            "89       17.567609     0.609985     0.097766   753.249809  0.000283  0.016819\n",
            "120      11.028603     0.774950     0.131268   303.956640  0.000513  0.022650\n",
            "80       12.064726     0.407804     0.103602   329.257697  0.000591  0.024301\n",
            "199       6.882687     0.712012     0.143136    80.495920  0.000917  0.030279\n",
            "20       15.573975     0.572387     0.086397   492.763688  0.000284  0.016852\n",
            "42       13.257855     0.690077     0.092588   383.775188  0.000359  0.018956\n",
            "130       9.689189     0.505650     0.168322   266.235322  0.000849  0.029142\n",
            "85       14.396089     0.628820     0.094796   473.930870  0.000313  0.017687\n",
            "178       6.909522     0.910240     0.167259   115.271280  0.000523  0.022859\n",
            "24       12.368831     0.475483     0.115718   354.244753  0.000591  0.024303\n",
            "219       7.404838     0.517875     0.187072   137.723696  0.001597  0.039962\n",
            "19       11.818911     0.494523     0.130336   372.082200  0.000869  0.029483\n",
            "53       21.928077     0.378184     0.071834  1050.663691  0.000237  0.015409\n",
            "108      15.243749     0.667889     0.089215   498.294353  0.000244  0.015632\n",
            "167      10.545297     0.388143     0.150599   316.404650  0.000817  0.028584\n",
            "171       9.950840     0.583775     0.107862   177.911202  0.000587  0.024236\n",
            "122       8.217041     0.647594     0.131231   125.100845  0.000823  0.028690\n",
            "79       16.039666     0.518215     0.074186   504.647764  0.000253  0.015914\n",
            "82       18.545606     0.616139     0.079710   786.792592  0.000210  0.014503\n",
            "190      13.480123     0.447013     0.183926   672.310646  0.001844  0.042946\n",
            "213      10.019364     0.736709     0.175234   265.802295  0.000690  0.026269\n",
            "127       9.943833     0.356576     0.167123   300.446500  0.001186  0.034439\n",
            "33       15.737030     0.580776     0.105048   658.805037  0.000424  0.020585\n",
            "211       8.631024     0.552013     0.119398   127.723823  0.000793  0.028167\n",
            "31       17.209761     0.501102     0.074744   594.169416  0.000252  0.015869\n",
            "71       10.521332     0.746281     0.127955   251.190721  0.000562  0.023708\n",
            "182      14.641961     0.534887     0.100612   495.060261  0.000487  0.022065\n",
            "194       6.215234     0.892597     0.166760    70.467200  0.000699  0.026431\n",
            "203      11.851375     0.910060     0.151165   351.437298  0.000388  0.019689\n",
            "133       9.665210     0.414726     0.154455   221.014753  0.001203  0.034683\n",
            "4        16.767608     0.609280     0.083202   597.947561  0.000238  0.015412\n",
            "37       13.824450     0.631875     0.115657   514.739160  0.000393  0.019816\n",
            "72       19.129945     0.577358     0.075765   795.518055  0.000207  0.014378\n",
            "21       15.474372     0.598685     0.077599   459.704979  0.000247  0.015701\n",
            "212       7.531881     0.632259     0.171774   138.459699  0.001220  0.034931\n",
            "207       7.256854     0.464993     0.162155   103.079496  0.001614  0.040170\n",
            "177       4.456140     0.650845     0.235796    44.981911  0.002873  0.053596\n",
            "157      10.524194     0.920394     0.120574   234.358837  0.000295  0.017187\n",
            "175       6.672053     0.592675     0.188130   121.896974  0.001312  0.036228\n",
            "23       13.961657     0.647162     0.112407   478.634781  0.000438  0.020939\n",
            "61       12.881055     0.590061     0.116827   402.322767  0.000423  0.020562\n"
          ]
        }
      ]
    },
    {
      "cell_type": "code",
      "source": [],
      "metadata": {
        "id": "52idXhFAz5JG"
      },
      "execution_count": null,
      "outputs": []
    },
    {
      "cell_type": "markdown",
      "source": [
        "**ALGORITMA KNN**"
      ],
      "metadata": {
        "id": "kM--0Fu7654R"
      }
    },
    {
      "cell_type": "code",
      "source": [
        "from sklearn.neighbors import KNeighborsClassifier\n",
        "from sklearn.model_selection import GridSearchCV\n",
        "import numpy as np"
      ],
      "metadata": {
        "id": "jkTCB1BZ65O7"
      },
      "execution_count": 8,
      "outputs": []
    },
    {
      "cell_type": "code",
      "source": [
        "model_KNN = KNeighborsClassifier(5)"
      ],
      "metadata": {
        "id": "md6RpGPo6aSi"
      },
      "execution_count": 9,
      "outputs": []
    },
    {
      "cell_type": "code",
      "source": [
        "from sklearn.model_selection import cross_val_score\n",
        " \n",
        "# mengevaluasi performa model dengan cross_val_score\n",
        "scores = cross_val_score(model_KNN, X, y, cv=5)\n",
        "scores"
      ],
      "metadata": {
        "colab": {
          "base_uri": "https://localhost:8080/"
        },
        "id": "HwP8jsUf7NJw",
        "outputId": "124aa3f1-2105-46cb-f7ea-4cea7e8d244a"
      },
      "execution_count": 12,
      "outputs": [
        {
          "output_type": "execute_result",
          "data": {
            "text/plain": [
              "array([0.84782609, 0.80434783, 0.82608696, 0.7826087 , 0.89130435])"
            ]
          },
          "metadata": {},
          "execution_count": 12
        }
      ]
    },
    {
      "cell_type": "code",
      "source": [
        "model_KNN.fit(X_train, y_train)"
      ],
      "metadata": {
        "colab": {
          "base_uri": "https://localhost:8080/"
        },
        "id": "q4u3lc-c7yDB",
        "outputId": "20f159e6-c9c6-42f3-f8e0-72098d035f02"
      },
      "execution_count": 13,
      "outputs": [
        {
          "output_type": "execute_result",
          "data": {
            "text/plain": [
              "KNeighborsClassifier()"
            ]
          },
          "metadata": {},
          "execution_count": 13
        }
      ]
    },
    {
      "cell_type": "code",
      "source": [
        "import sklearn.metrics as metrics\n",
        "#data train accuracy\n",
        "y_pred = model_KNN.predict(X_train)\n",
        "print(metrics.accuracy_score(y_train, y_pred))"
      ],
      "metadata": {
        "colab": {
          "base_uri": "https://localhost:8080/"
        },
        "id": "du_1Pqgy71-D",
        "outputId": "43dc8e88-64e4-4bdc-a667-71cc15affc44"
      },
      "execution_count": 14,
      "outputs": [
        {
          "output_type": "stream",
          "name": "stdout",
          "text": [
            "0.875\n"
          ]
        }
      ]
    },
    {
      "cell_type": "code",
      "source": [
        "#data test accuracy\n",
        "y_pred = model_KNN.predict(X_test)\n",
        "print(metrics.accuracy_score(y_test, y_pred))"
      ],
      "metadata": {
        "colab": {
          "base_uri": "https://localhost:8080/"
        },
        "id": "saYKsXnO8bJt",
        "outputId": "1c180bc1-e1a7-4047-f7a3-2c4990fc7bec"
      },
      "execution_count": 15,
      "outputs": [
        {
          "output_type": "stream",
          "name": "stdout",
          "text": [
            "0.8043478260869565\n"
          ]
        }
      ]
    },
    {
      "cell_type": "code",
      "source": [
        "print(model_KNN.predict([[12.511137, 0.576175, 0.107229, 352.602871, 0.000396,0.019911]])[0])"
      ],
      "metadata": {
        "colab": {
          "base_uri": "https://localhost:8080/"
        },
        "id": "quAv2lVG9jEG",
        "outputId": "7af702aa-35e9-4a6b-ef49-91f9c88eacca"
      },
      "execution_count": 16,
      "outputs": [
        {
          "output_type": "stream",
          "name": "stdout",
          "text": [
            "SAPI\n"
          ]
        },
        {
          "output_type": "stream",
          "name": "stderr",
          "text": [
            "/usr/local/lib/python3.8/dist-packages/sklearn/base.py:450: UserWarning: X does not have valid feature names, but KNeighborsClassifier was fitted with feature names\n",
            "  warnings.warn(\n"
          ]
        }
      ]
    },
    {
      "cell_type": "code",
      "source": [
        "# save the model to disk\n",
        "import pickle\n",
        "filename = 'KNN Model.sav'\n",
        "pickle.dump(model_KNN, open(filename, 'wb'))"
      ],
      "metadata": {
        "id": "eb_-MrfB8oZ9"
      },
      "execution_count": 21,
      "outputs": []
    },
    {
      "cell_type": "markdown",
      "source": [
        "LBP WITH KNN"
      ],
      "metadata": {
        "id": "vFmfWehrl1UF"
      }
    },
    {
      "cell_type": "code",
      "source": [
        "import pandas as pd\n",
        "df2 = pd.read_csv('/content/Dataset_LBP.csv')\n",
        "df2.head(10)"
      ],
      "metadata": {
        "colab": {
          "base_uri": "https://localhost:8080/",
          "height": 363
        },
        "id": "XcXGZvrIlz41",
        "outputId": "1c3e7301-aa99-4b64-b101-acb8b0b3a01c"
      },
      "execution_count": 20,
      "outputs": [
        {
          "output_type": "execute_result",
          "data": {
            "text/plain": [
              "   Uniformity    Energy   Entropy Label\n",
              "0         0.0  0.233118  0.744894  SAPI\n",
              "1         0.0  0.314254  0.252407  SAPI\n",
              "2         0.0  0.187299  0.758315  SAPI\n",
              "3         0.0  0.194237  0.344809  SAPI\n",
              "4         0.0  0.321262  0.561610  SAPI\n",
              "5         0.0  0.353561  0.389196  SAPI\n",
              "6         0.0  0.444464  0.355075  SAPI\n",
              "7         0.0  0.308632  0.620955  SAPI\n",
              "8         0.0  0.254161  0.244014  SAPI\n",
              "9         0.0  0.210585  0.572214  SAPI"
            ],
            "text/html": [
              "\n",
              "  <div id=\"df-fa26d4f3-46fb-4e1f-be9a-5e5e4e426436\">\n",
              "    <div class=\"colab-df-container\">\n",
              "      <div>\n",
              "<style scoped>\n",
              "    .dataframe tbody tr th:only-of-type {\n",
              "        vertical-align: middle;\n",
              "    }\n",
              "\n",
              "    .dataframe tbody tr th {\n",
              "        vertical-align: top;\n",
              "    }\n",
              "\n",
              "    .dataframe thead th {\n",
              "        text-align: right;\n",
              "    }\n",
              "</style>\n",
              "<table border=\"1\" class=\"dataframe\">\n",
              "  <thead>\n",
              "    <tr style=\"text-align: right;\">\n",
              "      <th></th>\n",
              "      <th>Uniformity</th>\n",
              "      <th>Energy</th>\n",
              "      <th>Entropy</th>\n",
              "      <th>Label</th>\n",
              "    </tr>\n",
              "  </thead>\n",
              "  <tbody>\n",
              "    <tr>\n",
              "      <th>0</th>\n",
              "      <td>0.0</td>\n",
              "      <td>0.233118</td>\n",
              "      <td>0.744894</td>\n",
              "      <td>SAPI</td>\n",
              "    </tr>\n",
              "    <tr>\n",
              "      <th>1</th>\n",
              "      <td>0.0</td>\n",
              "      <td>0.314254</td>\n",
              "      <td>0.252407</td>\n",
              "      <td>SAPI</td>\n",
              "    </tr>\n",
              "    <tr>\n",
              "      <th>2</th>\n",
              "      <td>0.0</td>\n",
              "      <td>0.187299</td>\n",
              "      <td>0.758315</td>\n",
              "      <td>SAPI</td>\n",
              "    </tr>\n",
              "    <tr>\n",
              "      <th>3</th>\n",
              "      <td>0.0</td>\n",
              "      <td>0.194237</td>\n",
              "      <td>0.344809</td>\n",
              "      <td>SAPI</td>\n",
              "    </tr>\n",
              "    <tr>\n",
              "      <th>4</th>\n",
              "      <td>0.0</td>\n",
              "      <td>0.321262</td>\n",
              "      <td>0.561610</td>\n",
              "      <td>SAPI</td>\n",
              "    </tr>\n",
              "    <tr>\n",
              "      <th>5</th>\n",
              "      <td>0.0</td>\n",
              "      <td>0.353561</td>\n",
              "      <td>0.389196</td>\n",
              "      <td>SAPI</td>\n",
              "    </tr>\n",
              "    <tr>\n",
              "      <th>6</th>\n",
              "      <td>0.0</td>\n",
              "      <td>0.444464</td>\n",
              "      <td>0.355075</td>\n",
              "      <td>SAPI</td>\n",
              "    </tr>\n",
              "    <tr>\n",
              "      <th>7</th>\n",
              "      <td>0.0</td>\n",
              "      <td>0.308632</td>\n",
              "      <td>0.620955</td>\n",
              "      <td>SAPI</td>\n",
              "    </tr>\n",
              "    <tr>\n",
              "      <th>8</th>\n",
              "      <td>0.0</td>\n",
              "      <td>0.254161</td>\n",
              "      <td>0.244014</td>\n",
              "      <td>SAPI</td>\n",
              "    </tr>\n",
              "    <tr>\n",
              "      <th>9</th>\n",
              "      <td>0.0</td>\n",
              "      <td>0.210585</td>\n",
              "      <td>0.572214</td>\n",
              "      <td>SAPI</td>\n",
              "    </tr>\n",
              "  </tbody>\n",
              "</table>\n",
              "</div>\n",
              "      <button class=\"colab-df-convert\" onclick=\"convertToInteractive('df-fa26d4f3-46fb-4e1f-be9a-5e5e4e426436')\"\n",
              "              title=\"Convert this dataframe to an interactive table.\"\n",
              "              style=\"display:none;\">\n",
              "        \n",
              "  <svg xmlns=\"http://www.w3.org/2000/svg\" height=\"24px\"viewBox=\"0 0 24 24\"\n",
              "       width=\"24px\">\n",
              "    <path d=\"M0 0h24v24H0V0z\" fill=\"none\"/>\n",
              "    <path d=\"M18.56 5.44l.94 2.06.94-2.06 2.06-.94-2.06-.94-.94-2.06-.94 2.06-2.06.94zm-11 1L8.5 8.5l.94-2.06 2.06-.94-2.06-.94L8.5 2.5l-.94 2.06-2.06.94zm10 10l.94 2.06.94-2.06 2.06-.94-2.06-.94-.94-2.06-.94 2.06-2.06.94z\"/><path d=\"M17.41 7.96l-1.37-1.37c-.4-.4-.92-.59-1.43-.59-.52 0-1.04.2-1.43.59L10.3 9.45l-7.72 7.72c-.78.78-.78 2.05 0 2.83L4 21.41c.39.39.9.59 1.41.59.51 0 1.02-.2 1.41-.59l7.78-7.78 2.81-2.81c.8-.78.8-2.07 0-2.86zM5.41 20L4 18.59l7.72-7.72 1.47 1.35L5.41 20z\"/>\n",
              "  </svg>\n",
              "      </button>\n",
              "      \n",
              "  <style>\n",
              "    .colab-df-container {\n",
              "      display:flex;\n",
              "      flex-wrap:wrap;\n",
              "      gap: 12px;\n",
              "    }\n",
              "\n",
              "    .colab-df-convert {\n",
              "      background-color: #E8F0FE;\n",
              "      border: none;\n",
              "      border-radius: 50%;\n",
              "      cursor: pointer;\n",
              "      display: none;\n",
              "      fill: #1967D2;\n",
              "      height: 32px;\n",
              "      padding: 0 0 0 0;\n",
              "      width: 32px;\n",
              "    }\n",
              "\n",
              "    .colab-df-convert:hover {\n",
              "      background-color: #E2EBFA;\n",
              "      box-shadow: 0px 1px 2px rgba(60, 64, 67, 0.3), 0px 1px 3px 1px rgba(60, 64, 67, 0.15);\n",
              "      fill: #174EA6;\n",
              "    }\n",
              "\n",
              "    [theme=dark] .colab-df-convert {\n",
              "      background-color: #3B4455;\n",
              "      fill: #D2E3FC;\n",
              "    }\n",
              "\n",
              "    [theme=dark] .colab-df-convert:hover {\n",
              "      background-color: #434B5C;\n",
              "      box-shadow: 0px 1px 3px 1px rgba(0, 0, 0, 0.15);\n",
              "      filter: drop-shadow(0px 1px 2px rgba(0, 0, 0, 0.3));\n",
              "      fill: #FFFFFF;\n",
              "    }\n",
              "  </style>\n",
              "\n",
              "      <script>\n",
              "        const buttonEl =\n",
              "          document.querySelector('#df-fa26d4f3-46fb-4e1f-be9a-5e5e4e426436 button.colab-df-convert');\n",
              "        buttonEl.style.display =\n",
              "          google.colab.kernel.accessAllowed ? 'block' : 'none';\n",
              "\n",
              "        async function convertToInteractive(key) {\n",
              "          const element = document.querySelector('#df-fa26d4f3-46fb-4e1f-be9a-5e5e4e426436');\n",
              "          const dataTable =\n",
              "            await google.colab.kernel.invokeFunction('convertToInteractive',\n",
              "                                                     [key], {});\n",
              "          if (!dataTable) return;\n",
              "\n",
              "          const docLinkHtml = 'Like what you see? Visit the ' +\n",
              "            '<a target=\"_blank\" href=https://colab.research.google.com/notebooks/data_table.ipynb>data table notebook</a>'\n",
              "            + ' to learn more about interactive tables.';\n",
              "          element.innerHTML = '';\n",
              "          dataTable['output_type'] = 'display_data';\n",
              "          await google.colab.output.renderOutput(dataTable, element);\n",
              "          const docLink = document.createElement('div');\n",
              "          docLink.innerHTML = docLinkHtml;\n",
              "          element.appendChild(docLink);\n",
              "        }\n",
              "      </script>\n",
              "    </div>\n",
              "  </div>\n",
              "  "
            ]
          },
          "metadata": {},
          "execution_count": 20
        }
      ]
    },
    {
      "cell_type": "code",
      "source": [
        "df2.info()"
      ],
      "metadata": {
        "colab": {
          "base_uri": "https://localhost:8080/"
        },
        "id": "JfSNexXUmJQo",
        "outputId": "d3e45afa-540d-4b6d-f3ce-5ed654807e84"
      },
      "execution_count": 22,
      "outputs": [
        {
          "output_type": "stream",
          "name": "stdout",
          "text": [
            "<class 'pandas.core.frame.DataFrame'>\n",
            "RangeIndex: 230 entries, 0 to 229\n",
            "Data columns (total 4 columns):\n",
            " #   Column      Non-Null Count  Dtype  \n",
            "---  ------      --------------  -----  \n",
            " 0   Uniformity  230 non-null    float64\n",
            " 1   Energy      230 non-null    float64\n",
            " 2   Entropy     230 non-null    float64\n",
            " 3   Label       230 non-null    object \n",
            "dtypes: float64(3), object(1)\n",
            "memory usage: 7.3+ KB\n"
          ]
        }
      ]
    },
    {
      "cell_type": "code",
      "source": [
        "# memisahkan atribut dan label\n",
        "X = df2[['Uniformity', 'Energy', 'Entropy' ]]\n",
        "y = df2['Label']\n",
        "# Membagi dataset menjadi data latih & data uji\n",
        "from sklearn.model_selection import train_test_split\n",
        "X_train, X_test, y_train, y_test = train_test_split(X, y, test_size=0.2, random_state=123)\n",
        "print(y_train)"
      ],
      "metadata": {
        "colab": {
          "base_uri": "https://localhost:8080/"
        },
        "id": "8meJBTC3mP2T",
        "outputId": "9089b00e-5280-4a6a-dc09-935d747c2148"
      },
      "execution_count": 23,
      "outputs": [
        {
          "output_type": "stream",
          "name": "stdout",
          "text": [
            "52     SAPI\n",
            "10     SAPI\n",
            "206    BABI\n",
            "91     SAPI\n",
            "26     SAPI\n",
            "       ... \n",
            "98     SAPI\n",
            "220    BABI\n",
            "66     SAPI\n",
            "126    BABI\n",
            "109    SAPI\n",
            "Name: Label, Length: 184, dtype: object\n"
          ]
        }
      ]
    },
    {
      "cell_type": "code",
      "source": [
        "print(y_test)"
      ],
      "metadata": {
        "colab": {
          "base_uri": "https://localhost:8080/"
        },
        "id": "q-O1L3V4ogc5",
        "outputId": "deb2c495-9a15-4b25-c566-9b8df5e6a665"
      },
      "execution_count": 24,
      "outputs": [
        {
          "output_type": "stream",
          "name": "stdout",
          "text": [
            "184    BABI\n",
            "148    BABI\n",
            "179    BABI\n",
            "210    BABI\n",
            "81     SAPI\n",
            "89     SAPI\n",
            "120    BABI\n",
            "80     SAPI\n",
            "199    BABI\n",
            "20     SAPI\n",
            "42     SAPI\n",
            "130    BABI\n",
            "85     SAPI\n",
            "178    BABI\n",
            "24     SAPI\n",
            "219    BABI\n",
            "19     SAPI\n",
            "53     SAPI\n",
            "108    SAPI\n",
            "167    BABI\n",
            "171    BABI\n",
            "122    BABI\n",
            "79     SAPI\n",
            "82     SAPI\n",
            "190    BABI\n",
            "213    BABI\n",
            "127    BABI\n",
            "33     SAPI\n",
            "211    BABI\n",
            "31     SAPI\n",
            "71     SAPI\n",
            "182    BABI\n",
            "194    BABI\n",
            "203    BABI\n",
            "133    BABI\n",
            "4      SAPI\n",
            "37     SAPI\n",
            "72     SAPI\n",
            "21     SAPI\n",
            "212    BABI\n",
            "207    BABI\n",
            "177    BABI\n",
            "157    BABI\n",
            "175    BABI\n",
            "23     SAPI\n",
            "61     SAPI\n",
            "Name: Label, dtype: object\n"
          ]
        }
      ]
    },
    {
      "cell_type": "code",
      "source": [
        "print(X_test)"
      ],
      "metadata": {
        "colab": {
          "base_uri": "https://localhost:8080/"
        },
        "id": "p08M1xVtoluA",
        "outputId": "aac0d270-51d7-4c06-d972-44b976bffbc9"
      },
      "execution_count": 25,
      "outputs": [
        {
          "output_type": "stream",
          "name": "stdout",
          "text": [
            "     Uniformity    Energy   Entropy\n",
            "184         0.0  0.004601  0.964865\n",
            "148         0.0  0.007683  0.895133\n",
            "179         0.0  0.007780  0.965313\n",
            "210         0.0  0.040091  0.938636\n",
            "81          0.0  0.301163  0.317992\n",
            "89          0.0  0.096762  0.465923\n",
            "120         0.0  0.005247  0.994994\n",
            "80          0.0  0.121663  0.780420\n",
            "199         0.0  0.026225  0.956168\n",
            "20          0.0  0.077855  0.480640\n",
            "42          0.0  0.227989  0.450221\n",
            "130         0.0  0.009995  0.979122\n",
            "85          0.0  0.204813  0.251066\n",
            "178         0.0  0.009871  0.938239\n",
            "24          0.0  0.343056  0.438873\n",
            "219         0.0  0.026759  0.954130\n",
            "19          0.0  0.517164  0.439781\n",
            "53          0.0  0.236255  0.392626\n",
            "108         0.0  0.294802  0.695052\n",
            "167         0.0  0.035821  0.942253\n",
            "171         0.0  0.025566  0.980388\n",
            "122         0.0  0.025217  0.977573\n",
            "79          0.0  0.086832  0.659033\n",
            "82          0.0  0.860633  0.283010\n",
            "190         0.0  0.015989  0.991594\n",
            "213         0.0  0.003635  0.974131\n",
            "127         0.0  0.001502  0.978300\n",
            "33          0.0  0.630738  0.467313\n",
            "211         0.0  0.027273  0.973355\n",
            "31          0.0  0.108369  0.643999\n",
            "71          0.0  0.085404  0.676943\n",
            "182         0.0  0.002905  0.982218\n",
            "194         0.0  0.014485  0.875608\n",
            "203         0.0  0.034642  0.967742\n",
            "133         0.0  0.023437  0.972175\n",
            "4           0.0  0.321262  0.561610\n",
            "37          0.0  0.103653  0.694009\n",
            "72          0.0  0.314920  0.599718\n",
            "21          0.0  0.175705  0.523344\n",
            "212         0.0  0.019023  0.961824\n",
            "207         0.0  0.014573  0.947922\n",
            "177         0.0  0.021738  0.875081\n",
            "157         0.0  0.013464  0.965863\n",
            "175         0.0  0.006803  0.941827\n",
            "23          0.0  0.143212  0.521575\n",
            "61          0.0  0.275632  0.457617\n"
          ]
        }
      ]
    },
    {
      "cell_type": "markdown",
      "source": [
        "ALGORITMA KNN"
      ],
      "metadata": {
        "id": "7JrO35KRmuab"
      }
    },
    {
      "cell_type": "code",
      "source": [
        "from sklearn.neighbors import KNeighborsClassifier\n",
        "from sklearn.model_selection import GridSearchCV\n",
        "import numpy as np"
      ],
      "metadata": {
        "id": "-13jjrQomiRw"
      },
      "execution_count": 26,
      "outputs": []
    },
    {
      "cell_type": "code",
      "source": [
        "model_KNN2 = KNeighborsClassifier(5)"
      ],
      "metadata": {
        "id": "0FWDW03pmxwG"
      },
      "execution_count": 27,
      "outputs": []
    },
    {
      "cell_type": "code",
      "source": [
        "from sklearn.model_selection import cross_val_score\n",
        " \n",
        "# mengevaluasi performa model dengan cross_val_score\n",
        "scores = cross_val_score(model_KNN2, X, y, cv=5)\n",
        "scores"
      ],
      "metadata": {
        "colab": {
          "base_uri": "https://localhost:8080/"
        },
        "id": "5GrTzdS5nFIa",
        "outputId": "421b696e-4f90-45a4-c30a-6c3fab2c2c1e"
      },
      "execution_count": 29,
      "outputs": [
        {
          "output_type": "execute_result",
          "data": {
            "text/plain": [
              "array([1.        , 1.        , 1.        , 1.        , 0.97826087])"
            ]
          },
          "metadata": {},
          "execution_count": 29
        }
      ]
    },
    {
      "cell_type": "code",
      "source": [
        "model_KNN2.fit(X_train, y_train)"
      ],
      "metadata": {
        "colab": {
          "base_uri": "https://localhost:8080/"
        },
        "id": "AsHenCQonhX6",
        "outputId": "2a59b6dd-4204-4761-af87-e9709908079c"
      },
      "execution_count": 30,
      "outputs": [
        {
          "output_type": "execute_result",
          "data": {
            "text/plain": [
              "KNeighborsClassifier()"
            ]
          },
          "metadata": {},
          "execution_count": 30
        }
      ]
    },
    {
      "cell_type": "code",
      "source": [
        "import sklearn.metrics as metrics\n",
        "#data train accuracy\n",
        "y_pred = model_KNN2.predict(X_train)\n",
        "print(metrics.accuracy_score(y_train, y_pred))"
      ],
      "metadata": {
        "colab": {
          "base_uri": "https://localhost:8080/"
        },
        "id": "DuSIq7I0ntPj",
        "outputId": "9670fe3b-8f2d-4eb1-ce99-d7031426e95b"
      },
      "execution_count": 32,
      "outputs": [
        {
          "output_type": "stream",
          "name": "stdout",
          "text": [
            "0.9945652173913043\n"
          ]
        }
      ]
    },
    {
      "cell_type": "code",
      "source": [
        "#data test accuracy\n",
        "y_pred = model_KNN2.predict(X_test)\n",
        "print(metrics.accuracy_score(y_test, y_pred))"
      ],
      "metadata": {
        "colab": {
          "base_uri": "https://localhost:8080/"
        },
        "id": "Gm6oQMC-n5jr",
        "outputId": "714d73da-488d-421a-d9e1-33b7bf8490e5"
      },
      "execution_count": 33,
      "outputs": [
        {
          "output_type": "stream",
          "name": "stdout",
          "text": [
            "1.0\n"
          ]
        }
      ]
    },
    {
      "cell_type": "code",
      "source": [
        "print(model_KNN2.predict([[0.0,  0.007683, 0.895133]])[0])"
      ],
      "metadata": {
        "colab": {
          "base_uri": "https://localhost:8080/"
        },
        "id": "ZGoMrDScoZSQ",
        "outputId": "3552f4d3-b4b6-40b6-aac2-bbdb81173856"
      },
      "execution_count": 36,
      "outputs": [
        {
          "output_type": "stream",
          "name": "stdout",
          "text": [
            "BABI\n"
          ]
        },
        {
          "output_type": "stream",
          "name": "stderr",
          "text": [
            "/usr/local/lib/python3.8/dist-packages/sklearn/base.py:450: UserWarning: X does not have valid feature names, but KNeighborsClassifier was fitted with feature names\n",
            "  warnings.warn(\n"
          ]
        }
      ]
    },
    {
      "cell_type": "code",
      "source": [
        "# save the model to disk\n",
        "import pickle\n",
        "filename = 'KNN Model2.sav'\n",
        "pickle.dump(model_KNN2, open(filename, 'wb'))"
      ],
      "metadata": {
        "id": "LmPDhACto4h8"
      },
      "execution_count": 37,
      "outputs": []
    }
  ]
}